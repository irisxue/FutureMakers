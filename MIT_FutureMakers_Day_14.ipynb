{
  "nbformat": 4,
  "nbformat_minor": 0,
  "metadata": {
    "colab": {
      "name": "MIT_FutureMakers_Day 14.ipynb",
      "provenance": []
    },
    "kernelspec": {
      "name": "python3",
      "display_name": "Python 3"
    },
    "language_info": {
      "name": "python"
    }
  },
  "cells": [
    {
      "cell_type": "code",
      "metadata": {
        "id": "bWB55CTw3lrj"
      },
      "source": [
        "import pandas as pd\n"
      ],
      "execution_count": 1,
      "outputs": []
    },
    {
      "cell_type": "code",
      "metadata": {
        "id": "HmfiP3ZT3-ua"
      },
      "source": [
        "df = pd.read_csv('housepricedata.csv')\n"
      ],
      "execution_count": 3,
      "outputs": []
    },
    {
      "cell_type": "code",
      "metadata": {
        "colab": {
          "base_uri": "https://localhost:8080/",
          "height": 428
        },
        "id": "36hEi64T4BD-",
        "outputId": "27da7a85-1962-4bc3-b9b0-66a77d03a25d"
      },
      "source": [
        "df"
      ],
      "execution_count": 4,
      "outputs": [
        {
          "output_type": "execute_result",
          "data": {
            "text/html": [
              "<div>\n",
              "<style scoped>\n",
              "    .dataframe tbody tr th:only-of-type {\n",
              "        vertical-align: middle;\n",
              "    }\n",
              "\n",
              "    .dataframe tbody tr th {\n",
              "        vertical-align: top;\n",
              "    }\n",
              "\n",
              "    .dataframe thead th {\n",
              "        text-align: right;\n",
              "    }\n",
              "</style>\n",
              "<table border=\"1\" class=\"dataframe\">\n",
              "  <thead>\n",
              "    <tr style=\"text-align: right;\">\n",
              "      <th></th>\n",
              "      <th>LotArea</th>\n",
              "      <th>OverallQual</th>\n",
              "      <th>OverallCond</th>\n",
              "      <th>TotalBsmtSF</th>\n",
              "      <th>FullBath</th>\n",
              "      <th>HalfBath</th>\n",
              "      <th>BedroomAbvGr</th>\n",
              "      <th>TotRmsAbvGrd</th>\n",
              "      <th>Fireplaces</th>\n",
              "      <th>GarageArea</th>\n",
              "      <th>AboveMedianPrice</th>\n",
              "    </tr>\n",
              "  </thead>\n",
              "  <tbody>\n",
              "    <tr>\n",
              "      <th>0</th>\n",
              "      <td>8450</td>\n",
              "      <td>7</td>\n",
              "      <td>5</td>\n",
              "      <td>856</td>\n",
              "      <td>2</td>\n",
              "      <td>1</td>\n",
              "      <td>3</td>\n",
              "      <td>8</td>\n",
              "      <td>0</td>\n",
              "      <td>548</td>\n",
              "      <td>1</td>\n",
              "    </tr>\n",
              "    <tr>\n",
              "      <th>1</th>\n",
              "      <td>9600</td>\n",
              "      <td>6</td>\n",
              "      <td>8</td>\n",
              "      <td>1262</td>\n",
              "      <td>2</td>\n",
              "      <td>0</td>\n",
              "      <td>3</td>\n",
              "      <td>6</td>\n",
              "      <td>1</td>\n",
              "      <td>460</td>\n",
              "      <td>1</td>\n",
              "    </tr>\n",
              "    <tr>\n",
              "      <th>2</th>\n",
              "      <td>11250</td>\n",
              "      <td>7</td>\n",
              "      <td>5</td>\n",
              "      <td>920</td>\n",
              "      <td>2</td>\n",
              "      <td>1</td>\n",
              "      <td>3</td>\n",
              "      <td>6</td>\n",
              "      <td>1</td>\n",
              "      <td>608</td>\n",
              "      <td>1</td>\n",
              "    </tr>\n",
              "    <tr>\n",
              "      <th>3</th>\n",
              "      <td>9550</td>\n",
              "      <td>7</td>\n",
              "      <td>5</td>\n",
              "      <td>756</td>\n",
              "      <td>1</td>\n",
              "      <td>0</td>\n",
              "      <td>3</td>\n",
              "      <td>7</td>\n",
              "      <td>1</td>\n",
              "      <td>642</td>\n",
              "      <td>0</td>\n",
              "    </tr>\n",
              "    <tr>\n",
              "      <th>4</th>\n",
              "      <td>14260</td>\n",
              "      <td>8</td>\n",
              "      <td>5</td>\n",
              "      <td>1145</td>\n",
              "      <td>2</td>\n",
              "      <td>1</td>\n",
              "      <td>4</td>\n",
              "      <td>9</td>\n",
              "      <td>1</td>\n",
              "      <td>836</td>\n",
              "      <td>1</td>\n",
              "    </tr>\n",
              "    <tr>\n",
              "      <th>...</th>\n",
              "      <td>...</td>\n",
              "      <td>...</td>\n",
              "      <td>...</td>\n",
              "      <td>...</td>\n",
              "      <td>...</td>\n",
              "      <td>...</td>\n",
              "      <td>...</td>\n",
              "      <td>...</td>\n",
              "      <td>...</td>\n",
              "      <td>...</td>\n",
              "      <td>...</td>\n",
              "    </tr>\n",
              "    <tr>\n",
              "      <th>1455</th>\n",
              "      <td>7917</td>\n",
              "      <td>6</td>\n",
              "      <td>5</td>\n",
              "      <td>953</td>\n",
              "      <td>2</td>\n",
              "      <td>1</td>\n",
              "      <td>3</td>\n",
              "      <td>7</td>\n",
              "      <td>1</td>\n",
              "      <td>460</td>\n",
              "      <td>1</td>\n",
              "    </tr>\n",
              "    <tr>\n",
              "      <th>1456</th>\n",
              "      <td>13175</td>\n",
              "      <td>6</td>\n",
              "      <td>6</td>\n",
              "      <td>1542</td>\n",
              "      <td>2</td>\n",
              "      <td>0</td>\n",
              "      <td>3</td>\n",
              "      <td>7</td>\n",
              "      <td>2</td>\n",
              "      <td>500</td>\n",
              "      <td>1</td>\n",
              "    </tr>\n",
              "    <tr>\n",
              "      <th>1457</th>\n",
              "      <td>9042</td>\n",
              "      <td>7</td>\n",
              "      <td>9</td>\n",
              "      <td>1152</td>\n",
              "      <td>2</td>\n",
              "      <td>0</td>\n",
              "      <td>4</td>\n",
              "      <td>9</td>\n",
              "      <td>2</td>\n",
              "      <td>252</td>\n",
              "      <td>1</td>\n",
              "    </tr>\n",
              "    <tr>\n",
              "      <th>1458</th>\n",
              "      <td>9717</td>\n",
              "      <td>5</td>\n",
              "      <td>6</td>\n",
              "      <td>1078</td>\n",
              "      <td>1</td>\n",
              "      <td>0</td>\n",
              "      <td>2</td>\n",
              "      <td>5</td>\n",
              "      <td>0</td>\n",
              "      <td>240</td>\n",
              "      <td>0</td>\n",
              "    </tr>\n",
              "    <tr>\n",
              "      <th>1459</th>\n",
              "      <td>9937</td>\n",
              "      <td>5</td>\n",
              "      <td>6</td>\n",
              "      <td>1256</td>\n",
              "      <td>1</td>\n",
              "      <td>1</td>\n",
              "      <td>3</td>\n",
              "      <td>6</td>\n",
              "      <td>0</td>\n",
              "      <td>276</td>\n",
              "      <td>0</td>\n",
              "    </tr>\n",
              "  </tbody>\n",
              "</table>\n",
              "<p>1460 rows × 11 columns</p>\n",
              "</div>"
            ],
            "text/plain": [
              "      LotArea  OverallQual  ...  GarageArea  AboveMedianPrice\n",
              "0        8450            7  ...         548                 1\n",
              "1        9600            6  ...         460                 1\n",
              "2       11250            7  ...         608                 1\n",
              "3        9550            7  ...         642                 0\n",
              "4       14260            8  ...         836                 1\n",
              "...       ...          ...  ...         ...               ...\n",
              "1455     7917            6  ...         460                 1\n",
              "1456    13175            6  ...         500                 1\n",
              "1457     9042            7  ...         252                 1\n",
              "1458     9717            5  ...         240                 0\n",
              "1459     9937            5  ...         276                 0\n",
              "\n",
              "[1460 rows x 11 columns]"
            ]
          },
          "metadata": {},
          "execution_count": 4
        }
      ]
    },
    {
      "cell_type": "code",
      "metadata": {
        "id": "tRhXUZ834ELL"
      },
      "source": [
        "dataset = df.values\n"
      ],
      "execution_count": 5,
      "outputs": []
    },
    {
      "cell_type": "code",
      "metadata": {
        "colab": {
          "base_uri": "https://localhost:8080/"
        },
        "id": "EkLp0-C94Gey",
        "outputId": "8255f720-22f7-49de-f3c1-aa9846b74ffe"
      },
      "source": [
        "dataset\n"
      ],
      "execution_count": 6,
      "outputs": [
        {
          "output_type": "execute_result",
          "data": {
            "text/plain": [
              "array([[ 8450,     7,     5, ...,     0,   548,     1],\n",
              "       [ 9600,     6,     8, ...,     1,   460,     1],\n",
              "       [11250,     7,     5, ...,     1,   608,     1],\n",
              "       ...,\n",
              "       [ 9042,     7,     9, ...,     2,   252,     1],\n",
              "       [ 9717,     5,     6, ...,     0,   240,     0],\n",
              "       [ 9937,     5,     6, ...,     0,   276,     0]])"
            ]
          },
          "metadata": {},
          "execution_count": 6
        }
      ]
    },
    {
      "cell_type": "code",
      "metadata": {
        "id": "VyZQYjK74IV8"
      },
      "source": [
        "X = dataset[:,0:10]\n"
      ],
      "execution_count": 7,
      "outputs": []
    },
    {
      "cell_type": "code",
      "metadata": {
        "id": "daCG6Yrk4Kfe"
      },
      "source": [
        "Y = dataset[:,10]\n"
      ],
      "execution_count": 8,
      "outputs": []
    },
    {
      "cell_type": "code",
      "metadata": {
        "id": "3cAasAhY4Ofr"
      },
      "source": [
        "from sklearn import preprocessing\n"
      ],
      "execution_count": 10,
      "outputs": []
    },
    {
      "cell_type": "code",
      "metadata": {
        "id": "Vzv2Lh014S2P"
      },
      "source": [
        "min_max_scaler = preprocessing.MinMaxScaler()\n",
        "X_scale = min_max_scaler.fit_transform(X)"
      ],
      "execution_count": 12,
      "outputs": []
    },
    {
      "cell_type": "code",
      "metadata": {
        "colab": {
          "base_uri": "https://localhost:8080/"
        },
        "id": "zNOaw0m24UX3",
        "outputId": "c7c28eab-84d3-4f9b-d699-fd77c1b083ac"
      },
      "source": [
        "X_scale\n"
      ],
      "execution_count": 14,
      "outputs": [
        {
          "output_type": "execute_result",
          "data": {
            "text/plain": [
              "array([[0.0334198 , 0.66666667, 0.5       , ..., 0.5       , 0.        ,\n",
              "        0.3864598 ],\n",
              "       [0.03879502, 0.55555556, 0.875     , ..., 0.33333333, 0.33333333,\n",
              "        0.32440056],\n",
              "       [0.04650728, 0.66666667, 0.5       , ..., 0.33333333, 0.33333333,\n",
              "        0.42877292],\n",
              "       ...,\n",
              "       [0.03618687, 0.66666667, 1.        , ..., 0.58333333, 0.66666667,\n",
              "        0.17771509],\n",
              "       [0.03934189, 0.44444444, 0.625     , ..., 0.25      , 0.        ,\n",
              "        0.16925247],\n",
              "       [0.04037019, 0.44444444, 0.625     , ..., 0.33333333, 0.        ,\n",
              "        0.19464034]])"
            ]
          },
          "metadata": {},
          "execution_count": 14
        }
      ]
    },
    {
      "cell_type": "code",
      "metadata": {
        "id": "rWTHLUIs4YUx"
      },
      "source": [
        "from sklearn.model_selection import train_test_split\n"
      ],
      "execution_count": 16,
      "outputs": []
    },
    {
      "cell_type": "code",
      "metadata": {
        "id": "1ZjUUY194Vmf"
      },
      "source": [
        "X_train, X_val_and_test, Y_train, Y_val_and_test = train_test_split(X_scale, Y, test_size=0.3)\n"
      ],
      "execution_count": 17,
      "outputs": []
    },
    {
      "cell_type": "code",
      "metadata": {
        "id": "2BjzjtAa4hEF"
      },
      "source": [
        "X_val, X_test, Y_val, Y_test = train_test_split(X_val_and_test, Y_val_and_test, test_size=0.5)\n"
      ],
      "execution_count": 18,
      "outputs": []
    },
    {
      "cell_type": "code",
      "metadata": {
        "colab": {
          "base_uri": "https://localhost:8080/"
        },
        "id": "X8XnHwWm4aav",
        "outputId": "a81481eb-829b-4469-dde1-585944b5619a"
      },
      "source": [
        "print(X_train.shape, X_val.shape, X_test.shape, Y_train.shape, Y_val.shape, Y_test.shape)"
      ],
      "execution_count": 19,
      "outputs": [
        {
          "output_type": "stream",
          "text": [
            "(1022, 10) (219, 10) (219, 10) (1022,) (219,) (219,)\n"
          ],
          "name": "stdout"
        }
      ]
    },
    {
      "cell_type": "code",
      "metadata": {
        "id": "8UChAwyc4oIn"
      },
      "source": [
        "from keras.models import Sequential\n",
        "from keras.layers import Dense"
      ],
      "execution_count": 20,
      "outputs": []
    },
    {
      "cell_type": "code",
      "metadata": {
        "id": "V_QpSoQn4rGR"
      },
      "source": [
        "model = Sequential([\n",
        "    Dense(32, activation='relu', input_shape=(10,)),\n",
        "    Dense(32, activation='relu'),\n",
        "    Dense(1, activation='sigmoid'),\n",
        "])"
      ],
      "execution_count": 21,
      "outputs": []
    },
    {
      "cell_type": "code",
      "metadata": {
        "id": "8SneKxj-4srD"
      },
      "source": [
        "model.compile(optimizer='sgd',\n",
        "              loss='binary_crossentropy',\n",
        "              metrics=['accuracy'])"
      ],
      "execution_count": 22,
      "outputs": []
    },
    {
      "cell_type": "code",
      "metadata": {
        "colab": {
          "base_uri": "https://localhost:8080/"
        },
        "id": "iJ6kAsNO4u30",
        "outputId": "d2e8b2c2-e738-4d33-ec99-cdd98b30f999"
      },
      "source": [
        "hist = model.fit(X_train, Y_train,\n",
        "          batch_size=32, epochs=100,\n",
        "          validation_data=(X_val, Y_val))"
      ],
      "execution_count": 23,
      "outputs": [
        {
          "output_type": "stream",
          "text": [
            "Epoch 1/100\n",
            "32/32 [==============================] - 1s 6ms/step - loss: 0.6977 - accuracy: 0.5205 - val_loss: 0.7025 - val_accuracy: 0.4749\n",
            "Epoch 2/100\n",
            "32/32 [==============================] - 0s 2ms/step - loss: 0.6915 - accuracy: 0.5157 - val_loss: 0.6965 - val_accuracy: 0.4749\n",
            "Epoch 3/100\n",
            "32/32 [==============================] - 0s 2ms/step - loss: 0.6857 - accuracy: 0.5245 - val_loss: 0.6913 - val_accuracy: 0.4703\n",
            "Epoch 4/100\n",
            "32/32 [==============================] - 0s 2ms/step - loss: 0.6799 - accuracy: 0.5205 - val_loss: 0.6852 - val_accuracy: 0.4658\n",
            "Epoch 5/100\n",
            "32/32 [==============================] - 0s 3ms/step - loss: 0.6745 - accuracy: 0.5274 - val_loss: 0.6796 - val_accuracy: 0.4703\n",
            "Epoch 6/100\n",
            "32/32 [==============================] - 0s 2ms/step - loss: 0.6688 - accuracy: 0.5352 - val_loss: 0.6739 - val_accuracy: 0.4886\n",
            "Epoch 7/100\n",
            "32/32 [==============================] - 0s 2ms/step - loss: 0.6629 - accuracy: 0.5450 - val_loss: 0.6679 - val_accuracy: 0.5068\n",
            "Epoch 8/100\n",
            "32/32 [==============================] - 0s 2ms/step - loss: 0.6571 - accuracy: 0.5714 - val_loss: 0.6620 - val_accuracy: 0.5297\n",
            "Epoch 9/100\n",
            "32/32 [==============================] - 0s 3ms/step - loss: 0.6512 - accuracy: 0.5753 - val_loss: 0.6555 - val_accuracy: 0.6027\n",
            "Epoch 10/100\n",
            "32/32 [==============================] - 0s 2ms/step - loss: 0.6451 - accuracy: 0.6458 - val_loss: 0.6492 - val_accuracy: 0.6484\n",
            "Epoch 11/100\n",
            "32/32 [==============================] - 0s 2ms/step - loss: 0.6389 - accuracy: 0.6918 - val_loss: 0.6428 - val_accuracy: 0.7078\n",
            "Epoch 12/100\n",
            "32/32 [==============================] - 0s 2ms/step - loss: 0.6327 - accuracy: 0.7339 - val_loss: 0.6365 - val_accuracy: 0.7352\n",
            "Epoch 13/100\n",
            "32/32 [==============================] - 0s 2ms/step - loss: 0.6259 - accuracy: 0.7348 - val_loss: 0.6293 - val_accuracy: 0.7671\n",
            "Epoch 14/100\n",
            "32/32 [==============================] - 0s 2ms/step - loss: 0.6192 - accuracy: 0.7661 - val_loss: 0.6222 - val_accuracy: 0.7671\n",
            "Epoch 15/100\n",
            "32/32 [==============================] - 0s 2ms/step - loss: 0.6124 - accuracy: 0.7789 - val_loss: 0.6150 - val_accuracy: 0.7900\n",
            "Epoch 16/100\n",
            "32/32 [==============================] - 0s 2ms/step - loss: 0.6050 - accuracy: 0.7779 - val_loss: 0.6070 - val_accuracy: 0.7991\n",
            "Epoch 17/100\n",
            "32/32 [==============================] - 0s 2ms/step - loss: 0.5971 - accuracy: 0.7926 - val_loss: 0.5993 - val_accuracy: 0.8037\n",
            "Epoch 18/100\n",
            "32/32 [==============================] - 0s 3ms/step - loss: 0.5894 - accuracy: 0.7965 - val_loss: 0.5910 - val_accuracy: 0.8082\n",
            "Epoch 19/100\n",
            "32/32 [==============================] - 0s 2ms/step - loss: 0.5809 - accuracy: 0.7955 - val_loss: 0.5817 - val_accuracy: 0.8174\n",
            "Epoch 20/100\n",
            "32/32 [==============================] - 0s 2ms/step - loss: 0.5723 - accuracy: 0.7975 - val_loss: 0.5726 - val_accuracy: 0.8174\n",
            "Epoch 21/100\n",
            "32/32 [==============================] - 0s 2ms/step - loss: 0.5634 - accuracy: 0.8121 - val_loss: 0.5635 - val_accuracy: 0.8265\n",
            "Epoch 22/100\n",
            "32/32 [==============================] - 0s 2ms/step - loss: 0.5542 - accuracy: 0.8121 - val_loss: 0.5542 - val_accuracy: 0.8265\n",
            "Epoch 23/100\n",
            "32/32 [==============================] - 0s 2ms/step - loss: 0.5451 - accuracy: 0.8160 - val_loss: 0.5442 - val_accuracy: 0.8311\n",
            "Epoch 24/100\n",
            "32/32 [==============================] - 0s 2ms/step - loss: 0.5356 - accuracy: 0.8258 - val_loss: 0.5342 - val_accuracy: 0.8356\n",
            "Epoch 25/100\n",
            "32/32 [==============================] - 0s 2ms/step - loss: 0.5260 - accuracy: 0.8239 - val_loss: 0.5239 - val_accuracy: 0.8447\n",
            "Epoch 26/100\n",
            "32/32 [==============================] - 0s 2ms/step - loss: 0.5168 - accuracy: 0.8317 - val_loss: 0.5145 - val_accuracy: 0.8447\n",
            "Epoch 27/100\n",
            "32/32 [==============================] - 0s 2ms/step - loss: 0.5076 - accuracy: 0.8376 - val_loss: 0.5056 - val_accuracy: 0.8584\n",
            "Epoch 28/100\n",
            "32/32 [==============================] - 0s 3ms/step - loss: 0.4984 - accuracy: 0.8327 - val_loss: 0.4958 - val_accuracy: 0.8402\n",
            "Epoch 29/100\n",
            "32/32 [==============================] - 0s 2ms/step - loss: 0.4894 - accuracy: 0.8405 - val_loss: 0.4871 - val_accuracy: 0.8447\n",
            "Epoch 30/100\n",
            "32/32 [==============================] - 0s 2ms/step - loss: 0.4808 - accuracy: 0.8395 - val_loss: 0.4781 - val_accuracy: 0.8447\n",
            "Epoch 31/100\n",
            "32/32 [==============================] - 0s 2ms/step - loss: 0.4721 - accuracy: 0.8376 - val_loss: 0.4692 - val_accuracy: 0.8584\n",
            "Epoch 32/100\n",
            "32/32 [==============================] - 0s 3ms/step - loss: 0.4636 - accuracy: 0.8425 - val_loss: 0.4604 - val_accuracy: 0.8539\n",
            "Epoch 33/100\n",
            "32/32 [==============================] - 0s 2ms/step - loss: 0.4552 - accuracy: 0.8483 - val_loss: 0.4530 - val_accuracy: 0.8493\n",
            "Epoch 34/100\n",
            "32/32 [==============================] - 0s 3ms/step - loss: 0.4475 - accuracy: 0.8483 - val_loss: 0.4450 - val_accuracy: 0.8493\n",
            "Epoch 35/100\n",
            "32/32 [==============================] - 0s 2ms/step - loss: 0.4398 - accuracy: 0.8483 - val_loss: 0.4366 - val_accuracy: 0.8721\n",
            "Epoch 36/100\n",
            "32/32 [==============================] - 0s 2ms/step - loss: 0.4326 - accuracy: 0.8474 - val_loss: 0.4294 - val_accuracy: 0.8676\n",
            "Epoch 37/100\n",
            "32/32 [==============================] - 0s 2ms/step - loss: 0.4257 - accuracy: 0.8474 - val_loss: 0.4220 - val_accuracy: 0.8767\n",
            "Epoch 38/100\n",
            "32/32 [==============================] - 0s 2ms/step - loss: 0.4188 - accuracy: 0.8542 - val_loss: 0.4157 - val_accuracy: 0.8676\n",
            "Epoch 39/100\n",
            "32/32 [==============================] - 0s 2ms/step - loss: 0.4123 - accuracy: 0.8542 - val_loss: 0.4081 - val_accuracy: 0.8721\n",
            "Epoch 40/100\n",
            "32/32 [==============================] - 0s 2ms/step - loss: 0.4057 - accuracy: 0.8571 - val_loss: 0.4024 - val_accuracy: 0.8767\n",
            "Epoch 41/100\n",
            "32/32 [==============================] - 0s 2ms/step - loss: 0.3999 - accuracy: 0.8562 - val_loss: 0.3963 - val_accuracy: 0.8767\n",
            "Epoch 42/100\n",
            "32/32 [==============================] - 0s 2ms/step - loss: 0.3940 - accuracy: 0.8532 - val_loss: 0.3903 - val_accuracy: 0.8767\n",
            "Epoch 43/100\n",
            "32/32 [==============================] - 0s 3ms/step - loss: 0.3888 - accuracy: 0.8591 - val_loss: 0.3852 - val_accuracy: 0.8767\n",
            "Epoch 44/100\n",
            "32/32 [==============================] - 0s 2ms/step - loss: 0.3837 - accuracy: 0.8542 - val_loss: 0.3799 - val_accuracy: 0.8767\n",
            "Epoch 45/100\n",
            "32/32 [==============================] - 0s 3ms/step - loss: 0.3789 - accuracy: 0.8581 - val_loss: 0.3749 - val_accuracy: 0.8767\n",
            "Epoch 46/100\n",
            "32/32 [==============================] - 0s 2ms/step - loss: 0.3740 - accuracy: 0.8620 - val_loss: 0.3701 - val_accuracy: 0.8858\n",
            "Epoch 47/100\n",
            "32/32 [==============================] - 0s 3ms/step - loss: 0.3693 - accuracy: 0.8611 - val_loss: 0.3657 - val_accuracy: 0.8858\n",
            "Epoch 48/100\n",
            "32/32 [==============================] - 0s 2ms/step - loss: 0.3655 - accuracy: 0.8591 - val_loss: 0.3616 - val_accuracy: 0.8858\n",
            "Epoch 49/100\n",
            "32/32 [==============================] - 0s 2ms/step - loss: 0.3612 - accuracy: 0.8640 - val_loss: 0.3578 - val_accuracy: 0.8858\n",
            "Epoch 50/100\n",
            "32/32 [==============================] - 0s 3ms/step - loss: 0.3575 - accuracy: 0.8630 - val_loss: 0.3540 - val_accuracy: 0.8950\n",
            "Epoch 51/100\n",
            "32/32 [==============================] - 0s 3ms/step - loss: 0.3537 - accuracy: 0.8659 - val_loss: 0.3516 - val_accuracy: 0.8813\n",
            "Epoch 52/100\n",
            "32/32 [==============================] - 0s 2ms/step - loss: 0.3509 - accuracy: 0.8601 - val_loss: 0.3472 - val_accuracy: 0.8950\n",
            "Epoch 53/100\n",
            "32/32 [==============================] - 0s 2ms/step - loss: 0.3475 - accuracy: 0.8640 - val_loss: 0.3441 - val_accuracy: 0.8950\n",
            "Epoch 54/100\n",
            "32/32 [==============================] - 0s 2ms/step - loss: 0.3442 - accuracy: 0.8601 - val_loss: 0.3418 - val_accuracy: 0.8904\n",
            "Epoch 55/100\n",
            "32/32 [==============================] - 0s 2ms/step - loss: 0.3417 - accuracy: 0.8591 - val_loss: 0.3388 - val_accuracy: 0.8950\n",
            "Epoch 56/100\n",
            "32/32 [==============================] - 0s 2ms/step - loss: 0.3390 - accuracy: 0.8611 - val_loss: 0.3357 - val_accuracy: 0.8904\n",
            "Epoch 57/100\n",
            "32/32 [==============================] - 0s 2ms/step - loss: 0.3368 - accuracy: 0.8679 - val_loss: 0.3332 - val_accuracy: 0.8904\n",
            "Epoch 58/100\n",
            "32/32 [==============================] - 0s 2ms/step - loss: 0.3332 - accuracy: 0.8640 - val_loss: 0.3311 - val_accuracy: 0.8858\n",
            "Epoch 59/100\n",
            "32/32 [==============================] - 0s 2ms/step - loss: 0.3305 - accuracy: 0.8659 - val_loss: 0.3301 - val_accuracy: 0.8904\n",
            "Epoch 60/100\n",
            "32/32 [==============================] - 0s 2ms/step - loss: 0.3293 - accuracy: 0.8659 - val_loss: 0.3264 - val_accuracy: 0.8904\n",
            "Epoch 61/100\n",
            "32/32 [==============================] - 0s 3ms/step - loss: 0.3276 - accuracy: 0.8679 - val_loss: 0.3247 - val_accuracy: 0.8904\n",
            "Epoch 62/100\n",
            "32/32 [==============================] - 0s 2ms/step - loss: 0.3248 - accuracy: 0.8650 - val_loss: 0.3228 - val_accuracy: 0.8904\n",
            "Epoch 63/100\n",
            "32/32 [==============================] - 0s 2ms/step - loss: 0.3233 - accuracy: 0.8679 - val_loss: 0.3213 - val_accuracy: 0.8904\n",
            "Epoch 64/100\n",
            "32/32 [==============================] - 0s 2ms/step - loss: 0.3213 - accuracy: 0.8659 - val_loss: 0.3190 - val_accuracy: 0.8904\n",
            "Epoch 65/100\n",
            "32/32 [==============================] - 0s 2ms/step - loss: 0.3190 - accuracy: 0.8718 - val_loss: 0.3177 - val_accuracy: 0.8904\n",
            "Epoch 66/100\n",
            "32/32 [==============================] - 0s 2ms/step - loss: 0.3177 - accuracy: 0.8679 - val_loss: 0.3155 - val_accuracy: 0.8995\n",
            "Epoch 67/100\n",
            "32/32 [==============================] - 0s 2ms/step - loss: 0.3163 - accuracy: 0.8718 - val_loss: 0.3147 - val_accuracy: 0.8904\n",
            "Epoch 68/100\n",
            "32/32 [==============================] - 0s 2ms/step - loss: 0.3149 - accuracy: 0.8650 - val_loss: 0.3125 - val_accuracy: 0.8995\n",
            "Epoch 69/100\n",
            "32/32 [==============================] - 0s 2ms/step - loss: 0.3129 - accuracy: 0.8679 - val_loss: 0.3118 - val_accuracy: 0.8904\n",
            "Epoch 70/100\n",
            "32/32 [==============================] - 0s 2ms/step - loss: 0.3120 - accuracy: 0.8689 - val_loss: 0.3098 - val_accuracy: 0.8904\n",
            "Epoch 71/100\n",
            "32/32 [==============================] - 0s 2ms/step - loss: 0.3105 - accuracy: 0.8689 - val_loss: 0.3084 - val_accuracy: 0.8950\n",
            "Epoch 72/100\n",
            "32/32 [==============================] - 0s 2ms/step - loss: 0.3093 - accuracy: 0.8679 - val_loss: 0.3071 - val_accuracy: 0.8995\n",
            "Epoch 73/100\n",
            "32/32 [==============================] - 0s 2ms/step - loss: 0.3083 - accuracy: 0.8718 - val_loss: 0.3058 - val_accuracy: 0.8950\n",
            "Epoch 74/100\n",
            "32/32 [==============================] - 0s 3ms/step - loss: 0.3062 - accuracy: 0.8699 - val_loss: 0.3049 - val_accuracy: 0.8950\n",
            "Epoch 75/100\n",
            "32/32 [==============================] - 0s 2ms/step - loss: 0.3048 - accuracy: 0.8679 - val_loss: 0.3048 - val_accuracy: 0.8995\n",
            "Epoch 76/100\n",
            "32/32 [==============================] - 0s 2ms/step - loss: 0.3040 - accuracy: 0.8757 - val_loss: 0.3028 - val_accuracy: 0.8950\n",
            "Epoch 77/100\n",
            "32/32 [==============================] - 0s 2ms/step - loss: 0.3035 - accuracy: 0.8728 - val_loss: 0.3012 - val_accuracy: 0.9041\n",
            "Epoch 78/100\n",
            "32/32 [==============================] - 0s 2ms/step - loss: 0.3022 - accuracy: 0.8718 - val_loss: 0.3002 - val_accuracy: 0.9041\n",
            "Epoch 79/100\n",
            "32/32 [==============================] - 0s 2ms/step - loss: 0.3012 - accuracy: 0.8679 - val_loss: 0.2997 - val_accuracy: 0.9041\n",
            "Epoch 80/100\n",
            "32/32 [==============================] - 0s 2ms/step - loss: 0.3006 - accuracy: 0.8728 - val_loss: 0.2983 - val_accuracy: 0.9041\n",
            "Epoch 81/100\n",
            "32/32 [==============================] - 0s 2ms/step - loss: 0.3001 - accuracy: 0.8718 - val_loss: 0.2973 - val_accuracy: 0.9087\n",
            "Epoch 82/100\n",
            "32/32 [==============================] - 0s 2ms/step - loss: 0.2986 - accuracy: 0.8718 - val_loss: 0.2967 - val_accuracy: 0.9087\n",
            "Epoch 83/100\n",
            "32/32 [==============================] - 0s 2ms/step - loss: 0.2970 - accuracy: 0.8767 - val_loss: 0.2954 - val_accuracy: 0.9132\n",
            "Epoch 84/100\n",
            "32/32 [==============================] - 0s 3ms/step - loss: 0.2964 - accuracy: 0.8708 - val_loss: 0.2945 - val_accuracy: 0.9132\n",
            "Epoch 85/100\n",
            "32/32 [==============================] - 0s 2ms/step - loss: 0.2954 - accuracy: 0.8689 - val_loss: 0.2937 - val_accuracy: 0.9132\n",
            "Epoch 86/100\n",
            "32/32 [==============================] - 0s 2ms/step - loss: 0.2939 - accuracy: 0.8738 - val_loss: 0.2960 - val_accuracy: 0.8950\n",
            "Epoch 87/100\n",
            "32/32 [==============================] - 0s 2ms/step - loss: 0.2950 - accuracy: 0.8748 - val_loss: 0.2924 - val_accuracy: 0.9178\n",
            "Epoch 88/100\n",
            "32/32 [==============================] - 0s 3ms/step - loss: 0.2929 - accuracy: 0.8718 - val_loss: 0.2917 - val_accuracy: 0.9178\n",
            "Epoch 89/100\n",
            "32/32 [==============================] - 0s 2ms/step - loss: 0.2924 - accuracy: 0.8767 - val_loss: 0.2905 - val_accuracy: 0.9132\n",
            "Epoch 90/100\n",
            "32/32 [==============================] - 0s 2ms/step - loss: 0.2914 - accuracy: 0.8728 - val_loss: 0.2907 - val_accuracy: 0.9132\n",
            "Epoch 91/100\n",
            "32/32 [==============================] - 0s 2ms/step - loss: 0.2914 - accuracy: 0.8748 - val_loss: 0.2893 - val_accuracy: 0.9178\n",
            "Epoch 92/100\n",
            "32/32 [==============================] - 0s 2ms/step - loss: 0.2889 - accuracy: 0.8777 - val_loss: 0.2903 - val_accuracy: 0.9041\n",
            "Epoch 93/100\n",
            "32/32 [==============================] - 0s 2ms/step - loss: 0.2896 - accuracy: 0.8796 - val_loss: 0.2877 - val_accuracy: 0.9178\n",
            "Epoch 94/100\n",
            "32/32 [==============================] - 0s 2ms/step - loss: 0.2886 - accuracy: 0.8748 - val_loss: 0.2870 - val_accuracy: 0.9224\n",
            "Epoch 95/100\n",
            "32/32 [==============================] - 0s 2ms/step - loss: 0.2877 - accuracy: 0.8748 - val_loss: 0.2885 - val_accuracy: 0.9041\n",
            "Epoch 96/100\n",
            "32/32 [==============================] - 0s 2ms/step - loss: 0.2873 - accuracy: 0.8767 - val_loss: 0.2858 - val_accuracy: 0.9224\n",
            "Epoch 97/100\n",
            "32/32 [==============================] - 0s 2ms/step - loss: 0.2869 - accuracy: 0.8806 - val_loss: 0.2852 - val_accuracy: 0.9224\n",
            "Epoch 98/100\n",
            "32/32 [==============================] - 0s 3ms/step - loss: 0.2861 - accuracy: 0.8777 - val_loss: 0.2850 - val_accuracy: 0.9224\n",
            "Epoch 99/100\n",
            "32/32 [==============================] - 0s 2ms/step - loss: 0.2852 - accuracy: 0.8748 - val_loss: 0.2848 - val_accuracy: 0.9178\n",
            "Epoch 100/100\n",
            "32/32 [==============================] - 0s 2ms/step - loss: 0.2845 - accuracy: 0.8796 - val_loss: 0.2834 - val_accuracy: 0.9224\n"
          ],
          "name": "stdout"
        }
      ]
    },
    {
      "cell_type": "code",
      "metadata": {
        "colab": {
          "base_uri": "https://localhost:8080/"
        },
        "id": "OHdswDJT4wzW",
        "outputId": "ca8a213c-6a40-49fc-e855-dcce5adf9538"
      },
      "source": [
        "model.evaluate(X_test, Y_test)[1]\n"
      ],
      "execution_count": 24,
      "outputs": [
        {
          "output_type": "stream",
          "text": [
            "7/7 [==============================] - 0s 2ms/step - loss: 0.2697 - accuracy: 0.9132\n"
          ],
          "name": "stdout"
        },
        {
          "output_type": "execute_result",
          "data": {
            "text/plain": [
              "0.913241982460022"
            ]
          },
          "metadata": {},
          "execution_count": 24
        }
      ]
    },
    {
      "cell_type": "code",
      "metadata": {
        "id": "NM-DZufd5Ims"
      },
      "source": [
        "import matplotlib.pyplot as plt\n"
      ],
      "execution_count": 25,
      "outputs": []
    },
    {
      "cell_type": "code",
      "metadata": {
        "colab": {
          "base_uri": "https://localhost:8080/",
          "height": 295
        },
        "id": "zGVqk1lc5LOz",
        "outputId": "46328aff-2932-4829-d530-a8a24630e12f"
      },
      "source": [
        "plt.plot(hist.history['loss'])\n",
        "plt.plot(hist.history['val_loss'])\n",
        "plt.title('Model loss')\n",
        "plt.ylabel('Loss')\n",
        "plt.xlabel('Epoch')\n",
        "plt.legend(['Train', 'Val'], loc='upper right')\n",
        "plt.show()"
      ],
      "execution_count": 26,
      "outputs": [
        {
          "output_type": "display_data",
          "data": {
            "image/png": "[encoded data removed]",
            "text/plain": [
              "<Figure size 432x288 with 1 Axes>"
            ]
          },
          "metadata": {
            "needs_background": "light"
          }
        }
      ]
    },
    {
      "cell_type": "code",
      "metadata": {
        "colab": {
          "base_uri": "https://localhost:8080/",
          "height": 295
        },
        "id": "rFuzZRU05MgF",
        "outputId": "7d81a5e6-624d-4417-d6f8-03cef61a84f7"
      },
      "source": [
        "plt.plot(hist.history['accuracy'])\n",
        "plt.plot(hist.history['val_accuracy'])\n",
        "plt.title('Model accuracy')\n",
        "plt.ylabel('Accuracy')\n",
        "plt.xlabel('Epoch')\n",
        "plt.legend(['Train', 'Val'], loc='lower right')\n",
        "plt.show()"
      ],
      "execution_count": 30,
      "outputs": [
        {
          "output_type": "display_data",
          "data": {
            "image/png": "[encoded data removed]",
            "text/plain": [
              "<Figure size 432x288 with 1 Axes>"
            ]
          },
          "metadata": {
            "needs_background": "light"
          }
        }
      ]
    },
    {
      "cell_type": "code",
      "metadata": {
        "id": "AHgjYWrR55zI"
      },
      "source": [
        "model_2 = Sequential([\n",
        "    Dense(1000, activation='relu', input_shape=(10,)),\n",
        "    Dense(1000, activation='relu'),\n",
        "    Dense(1000, activation='relu'),\n",
        "    Dense(1000, activation='relu'),\n",
        "    Dense(1, activation='sigmoid'),\n",
        "])"
      ],
      "execution_count": 31,
      "outputs": []
    },
    {
      "cell_type": "code",
      "metadata": {
        "id": "g0GydtSC5O6i"
      },
      "source": [
        "model_2.compile(optimizer='adam',\n",
        "              loss='binary_crossentropy',\n",
        "              metrics=['accuracy'])"
      ],
      "execution_count": 33,
      "outputs": []
    },
    {
      "cell_type": "code",
      "metadata": {
        "colab": {
          "base_uri": "https://localhost:8080/"
        },
        "id": "CRH06qdN59Fi",
        "outputId": "5cab3074-bb13-4dd8-bf9e-d376cfd2b648"
      },
      "source": [
        "hist_2 = model_2.fit(X_train, Y_train,\n",
        "          batch_size=32, epochs=100,\n",
        "          validation_data=(X_val, Y_val))"
      ],
      "execution_count": 34,
      "outputs": [
        {
          "output_type": "stream",
          "text": [
            "Epoch 1/100\n",
            "32/32 [==============================] - 2s 36ms/step - loss: 0.4873 - accuracy: 0.7613 - val_loss: 0.3623 - val_accuracy: 0.8447\n",
            "Epoch 2/100\n",
            "32/32 [==============================] - 1s 32ms/step - loss: 0.3512 - accuracy: 0.8523 - val_loss: 0.3614 - val_accuracy: 0.8539\n",
            "Epoch 3/100\n",
            "32/32 [==============================] - 1s 31ms/step - loss: 0.3250 - accuracy: 0.8728 - val_loss: 0.2771 - val_accuracy: 0.8904\n",
            "Epoch 4/100\n",
            "32/32 [==============================] - 1s 31ms/step - loss: 0.2970 - accuracy: 0.8689 - val_loss: 0.2573 - val_accuracy: 0.9087\n",
            "Epoch 5/100\n",
            "32/32 [==============================] - 1s 32ms/step - loss: 0.2855 - accuracy: 0.8787 - val_loss: 0.2555 - val_accuracy: 0.9224\n",
            "Epoch 6/100\n",
            "32/32 [==============================] - 1s 31ms/step - loss: 0.2784 - accuracy: 0.8865 - val_loss: 0.2605 - val_accuracy: 0.9178\n",
            "Epoch 7/100\n",
            "32/32 [==============================] - 1s 32ms/step - loss: 0.2627 - accuracy: 0.8933 - val_loss: 0.3019 - val_accuracy: 0.9406\n",
            "Epoch 8/100\n",
            "32/32 [==============================] - 1s 31ms/step - loss: 0.2491 - accuracy: 0.8953 - val_loss: 0.2645 - val_accuracy: 0.9361\n",
            "Epoch 9/100\n",
            "32/32 [==============================] - 1s 32ms/step - loss: 0.2677 - accuracy: 0.8924 - val_loss: 0.2644 - val_accuracy: 0.9406\n",
            "Epoch 10/100\n",
            "32/32 [==============================] - 1s 33ms/step - loss: 0.2583 - accuracy: 0.8933 - val_loss: 0.2386 - val_accuracy: 0.9361\n",
            "Epoch 11/100\n",
            "32/32 [==============================] - 1s 32ms/step - loss: 0.2312 - accuracy: 0.9012 - val_loss: 0.2749 - val_accuracy: 0.9224\n",
            "Epoch 12/100\n",
            "32/32 [==============================] - 1s 32ms/step - loss: 0.2363 - accuracy: 0.8914 - val_loss: 0.2532 - val_accuracy: 0.9361\n",
            "Epoch 13/100\n",
            "32/32 [==============================] - 1s 32ms/step - loss: 0.2369 - accuracy: 0.9031 - val_loss: 0.2791 - val_accuracy: 0.9041\n",
            "Epoch 14/100\n",
            "32/32 [==============================] - 1s 32ms/step - loss: 0.2383 - accuracy: 0.8973 - val_loss: 0.2552 - val_accuracy: 0.9361\n",
            "Epoch 15/100\n",
            "32/32 [==============================] - 1s 33ms/step - loss: 0.2426 - accuracy: 0.8845 - val_loss: 0.2617 - val_accuracy: 0.9224\n",
            "Epoch 16/100\n",
            "32/32 [==============================] - 1s 32ms/step - loss: 0.2356 - accuracy: 0.9051 - val_loss: 0.2637 - val_accuracy: 0.9269\n",
            "Epoch 17/100\n",
            "32/32 [==============================] - 1s 33ms/step - loss: 0.2307 - accuracy: 0.9022 - val_loss: 0.2969 - val_accuracy: 0.8995\n",
            "Epoch 18/100\n",
            "32/32 [==============================] - 1s 33ms/step - loss: 0.2481 - accuracy: 0.8885 - val_loss: 0.2863 - val_accuracy: 0.9132\n",
            "Epoch 19/100\n",
            "32/32 [==============================] - 1s 32ms/step - loss: 0.2483 - accuracy: 0.8904 - val_loss: 0.3231 - val_accuracy: 0.9087\n",
            "Epoch 20/100\n",
            "32/32 [==============================] - 1s 33ms/step - loss: 0.2450 - accuracy: 0.8894 - val_loss: 0.2997 - val_accuracy: 0.9315\n",
            "Epoch 21/100\n",
            "32/32 [==============================] - 1s 32ms/step - loss: 0.2300 - accuracy: 0.8953 - val_loss: 0.2839 - val_accuracy: 0.9406\n",
            "Epoch 22/100\n",
            "32/32 [==============================] - 1s 32ms/step - loss: 0.2328 - accuracy: 0.8982 - val_loss: 0.2727 - val_accuracy: 0.9269\n",
            "Epoch 23/100\n",
            "32/32 [==============================] - 1s 32ms/step - loss: 0.2168 - accuracy: 0.9100 - val_loss: 0.2876 - val_accuracy: 0.9406\n",
            "Epoch 24/100\n",
            "32/32 [==============================] - 1s 32ms/step - loss: 0.2165 - accuracy: 0.9080 - val_loss: 0.2650 - val_accuracy: 0.9269\n",
            "Epoch 25/100\n",
            "32/32 [==============================] - 1s 32ms/step - loss: 0.2128 - accuracy: 0.9070 - val_loss: 0.3052 - val_accuracy: 0.9315\n",
            "Epoch 26/100\n",
            "32/32 [==============================] - 1s 32ms/step - loss: 0.2012 - accuracy: 0.9168 - val_loss: 0.3035 - val_accuracy: 0.9224\n",
            "Epoch 27/100\n",
            "32/32 [==============================] - 1s 32ms/step - loss: 0.2164 - accuracy: 0.9070 - val_loss: 0.2572 - val_accuracy: 0.9269\n",
            "Epoch 28/100\n",
            "32/32 [==============================] - 1s 33ms/step - loss: 0.2003 - accuracy: 0.9159 - val_loss: 0.2963 - val_accuracy: 0.9132\n",
            "Epoch 29/100\n",
            "32/32 [==============================] - 1s 32ms/step - loss: 0.2210 - accuracy: 0.9178 - val_loss: 0.2741 - val_accuracy: 0.9406\n",
            "Epoch 30/100\n",
            "32/32 [==============================] - 1s 33ms/step - loss: 0.2085 - accuracy: 0.9139 - val_loss: 0.2973 - val_accuracy: 0.9361\n",
            "Epoch 31/100\n",
            "32/32 [==============================] - 1s 32ms/step - loss: 0.1906 - accuracy: 0.9168 - val_loss: 0.3123 - val_accuracy: 0.9315\n",
            "Epoch 32/100\n",
            "32/32 [==============================] - 1s 32ms/step - loss: 0.1937 - accuracy: 0.9159 - val_loss: 0.3026 - val_accuracy: 0.9269\n",
            "Epoch 33/100\n",
            "32/32 [==============================] - 1s 33ms/step - loss: 0.1908 - accuracy: 0.9139 - val_loss: 0.3112 - val_accuracy: 0.9087\n",
            "Epoch 34/100\n",
            "32/32 [==============================] - 1s 32ms/step - loss: 0.1999 - accuracy: 0.9022 - val_loss: 0.2983 - val_accuracy: 0.9178\n",
            "Epoch 35/100\n",
            "32/32 [==============================] - 1s 32ms/step - loss: 0.2125 - accuracy: 0.9139 - val_loss: 0.2808 - val_accuracy: 0.9361\n",
            "Epoch 36/100\n",
            "32/32 [==============================] - 1s 32ms/step - loss: 0.2186 - accuracy: 0.9110 - val_loss: 0.2722 - val_accuracy: 0.9361\n",
            "Epoch 37/100\n",
            "32/32 [==============================] - 1s 33ms/step - loss: 0.1958 - accuracy: 0.9139 - val_loss: 0.2714 - val_accuracy: 0.9452\n",
            "Epoch 38/100\n",
            "32/32 [==============================] - 1s 33ms/step - loss: 0.2014 - accuracy: 0.9119 - val_loss: 0.2911 - val_accuracy: 0.9224\n",
            "Epoch 39/100\n",
            "32/32 [==============================] - 1s 32ms/step - loss: 0.1846 - accuracy: 0.9247 - val_loss: 0.3189 - val_accuracy: 0.9087\n",
            "Epoch 40/100\n",
            "32/32 [==============================] - 1s 33ms/step - loss: 0.1893 - accuracy: 0.9168 - val_loss: 0.2878 - val_accuracy: 0.9406\n",
            "Epoch 41/100\n",
            "32/32 [==============================] - 1s 33ms/step - loss: 0.2050 - accuracy: 0.9178 - val_loss: 0.3063 - val_accuracy: 0.9132\n",
            "Epoch 42/100\n",
            "32/32 [==============================] - 1s 34ms/step - loss: 0.1867 - accuracy: 0.9295 - val_loss: 0.3289 - val_accuracy: 0.9041\n",
            "Epoch 43/100\n",
            "32/32 [==============================] - 1s 34ms/step - loss: 0.1848 - accuracy: 0.9149 - val_loss: 0.2959 - val_accuracy: 0.9315\n",
            "Epoch 44/100\n",
            "32/32 [==============================] - 1s 33ms/step - loss: 0.1790 - accuracy: 0.9217 - val_loss: 0.3134 - val_accuracy: 0.9361\n",
            "Epoch 45/100\n",
            "32/32 [==============================] - 1s 34ms/step - loss: 0.1882 - accuracy: 0.9159 - val_loss: 0.3175 - val_accuracy: 0.9224\n",
            "Epoch 46/100\n",
            "32/32 [==============================] - 1s 32ms/step - loss: 0.1707 - accuracy: 0.9276 - val_loss: 0.3443 - val_accuracy: 0.9178\n",
            "Epoch 47/100\n",
            "32/32 [==============================] - 1s 32ms/step - loss: 0.1773 - accuracy: 0.9178 - val_loss: 0.2960 - val_accuracy: 0.9315\n",
            "Epoch 48/100\n",
            "32/32 [==============================] - 1s 33ms/step - loss: 0.1657 - accuracy: 0.9198 - val_loss: 0.5086 - val_accuracy: 0.8721\n",
            "Epoch 49/100\n",
            "32/32 [==============================] - 1s 33ms/step - loss: 0.1919 - accuracy: 0.9198 - val_loss: 0.3088 - val_accuracy: 0.9315\n",
            "Epoch 50/100\n",
            "32/32 [==============================] - 1s 32ms/step - loss: 0.2106 - accuracy: 0.9100 - val_loss: 0.3188 - val_accuracy: 0.9132\n",
            "Epoch 51/100\n",
            "32/32 [==============================] - 1s 33ms/step - loss: 0.1932 - accuracy: 0.9129 - val_loss: 0.2748 - val_accuracy: 0.9269\n",
            "Epoch 52/100\n",
            "32/32 [==============================] - 1s 32ms/step - loss: 0.1809 - accuracy: 0.9266 - val_loss: 0.3011 - val_accuracy: 0.9224\n",
            "Epoch 53/100\n",
            "32/32 [==============================] - 1s 33ms/step - loss: 0.1700 - accuracy: 0.9315 - val_loss: 0.3860 - val_accuracy: 0.9132\n",
            "Epoch 54/100\n",
            "32/32 [==============================] - 1s 33ms/step - loss: 0.1805 - accuracy: 0.9188 - val_loss: 0.3046 - val_accuracy: 0.9315\n",
            "Epoch 55/100\n",
            "32/32 [==============================] - 1s 33ms/step - loss: 0.1682 - accuracy: 0.9266 - val_loss: 0.4114 - val_accuracy: 0.9087\n",
            "Epoch 56/100\n",
            "32/32 [==============================] - 1s 32ms/step - loss: 0.1654 - accuracy: 0.9227 - val_loss: 0.3212 - val_accuracy: 0.9224\n",
            "Epoch 57/100\n",
            "32/32 [==============================] - 1s 32ms/step - loss: 0.1514 - accuracy: 0.9305 - val_loss: 0.3116 - val_accuracy: 0.9224\n",
            "Epoch 58/100\n",
            "32/32 [==============================] - 1s 33ms/step - loss: 0.1665 - accuracy: 0.9256 - val_loss: 0.3590 - val_accuracy: 0.9087\n",
            "Epoch 59/100\n",
            "32/32 [==============================] - 1s 33ms/step - loss: 0.1565 - accuracy: 0.9247 - val_loss: 0.4439 - val_accuracy: 0.9132\n",
            "Epoch 60/100\n",
            "32/32 [==============================] - 1s 32ms/step - loss: 0.1691 - accuracy: 0.9344 - val_loss: 0.3599 - val_accuracy: 0.9041\n",
            "Epoch 61/100\n",
            "32/32 [==============================] - 1s 32ms/step - loss: 0.1798 - accuracy: 0.9198 - val_loss: 0.3268 - val_accuracy: 0.9269\n",
            "Epoch 62/100\n",
            "32/32 [==============================] - 1s 32ms/step - loss: 0.1694 - accuracy: 0.9266 - val_loss: 0.3594 - val_accuracy: 0.9224\n",
            "Epoch 63/100\n",
            "32/32 [==============================] - 1s 32ms/step - loss: 0.1511 - accuracy: 0.9393 - val_loss: 0.4109 - val_accuracy: 0.9224\n",
            "Epoch 64/100\n",
            "32/32 [==============================] - 1s 34ms/step - loss: 0.1595 - accuracy: 0.9295 - val_loss: 0.3902 - val_accuracy: 0.9087\n",
            "Epoch 65/100\n",
            "32/32 [==============================] - 1s 33ms/step - loss: 0.1507 - accuracy: 0.9364 - val_loss: 0.3666 - val_accuracy: 0.9315\n",
            "Epoch 66/100\n",
            "32/32 [==============================] - 1s 33ms/step - loss: 0.1568 - accuracy: 0.9276 - val_loss: 0.3534 - val_accuracy: 0.9087\n",
            "Epoch 67/100\n",
            "32/32 [==============================] - 1s 33ms/step - loss: 0.1489 - accuracy: 0.9393 - val_loss: 0.3551 - val_accuracy: 0.9178\n",
            "Epoch 68/100\n",
            "32/32 [==============================] - 1s 33ms/step - loss: 0.1369 - accuracy: 0.9374 - val_loss: 0.3722 - val_accuracy: 0.9224\n",
            "Epoch 69/100\n",
            "32/32 [==============================] - 1s 34ms/step - loss: 0.1841 - accuracy: 0.9247 - val_loss: 0.3326 - val_accuracy: 0.9224\n",
            "Epoch 70/100\n",
            "32/32 [==============================] - 1s 33ms/step - loss: 0.1954 - accuracy: 0.9188 - val_loss: 0.3143 - val_accuracy: 0.9224\n",
            "Epoch 71/100\n",
            "32/32 [==============================] - 1s 33ms/step - loss: 0.1820 - accuracy: 0.9247 - val_loss: 0.4161 - val_accuracy: 0.9132\n",
            "Epoch 72/100\n",
            "32/32 [==============================] - 1s 33ms/step - loss: 0.1686 - accuracy: 0.9266 - val_loss: 0.4272 - val_accuracy: 0.8950\n",
            "Epoch 73/100\n",
            "32/32 [==============================] - 1s 34ms/step - loss: 0.1379 - accuracy: 0.9413 - val_loss: 0.4250 - val_accuracy: 0.9041\n",
            "Epoch 74/100\n",
            "32/32 [==============================] - 1s 33ms/step - loss: 0.1384 - accuracy: 0.9344 - val_loss: 0.4031 - val_accuracy: 0.9224\n",
            "Epoch 75/100\n",
            "32/32 [==============================] - 1s 32ms/step - loss: 0.1334 - accuracy: 0.9423 - val_loss: 0.4002 - val_accuracy: 0.9132\n",
            "Epoch 76/100\n",
            "32/32 [==============================] - 1s 31ms/step - loss: 0.1251 - accuracy: 0.9413 - val_loss: 0.4644 - val_accuracy: 0.9132\n",
            "Epoch 77/100\n",
            "32/32 [==============================] - 1s 32ms/step - loss: 0.1210 - accuracy: 0.9452 - val_loss: 0.4012 - val_accuracy: 0.9269\n",
            "Epoch 78/100\n",
            "32/32 [==============================] - 1s 32ms/step - loss: 0.1277 - accuracy: 0.9432 - val_loss: 0.5089 - val_accuracy: 0.9132\n",
            "Epoch 79/100\n",
            "32/32 [==============================] - 1s 33ms/step - loss: 0.1265 - accuracy: 0.9384 - val_loss: 0.5195 - val_accuracy: 0.9132\n",
            "Epoch 80/100\n",
            "32/32 [==============================] - 1s 33ms/step - loss: 0.1388 - accuracy: 0.9432 - val_loss: 0.4638 - val_accuracy: 0.9087\n",
            "Epoch 81/100\n",
            "32/32 [==============================] - 1s 32ms/step - loss: 0.1352 - accuracy: 0.9403 - val_loss: 0.4523 - val_accuracy: 0.8950\n",
            "Epoch 82/100\n",
            "32/32 [==============================] - 1s 33ms/step - loss: 0.1847 - accuracy: 0.9198 - val_loss: 0.3191 - val_accuracy: 0.9224\n",
            "Epoch 83/100\n",
            "32/32 [==============================] - 1s 32ms/step - loss: 0.1604 - accuracy: 0.9393 - val_loss: 0.4404 - val_accuracy: 0.9132\n",
            "Epoch 84/100\n",
            "32/32 [==============================] - 1s 32ms/step - loss: 0.1381 - accuracy: 0.9315 - val_loss: 0.4741 - val_accuracy: 0.9132\n",
            "Epoch 85/100\n",
            "32/32 [==============================] - 1s 32ms/step - loss: 0.1306 - accuracy: 0.9442 - val_loss: 0.3677 - val_accuracy: 0.9087\n",
            "Epoch 86/100\n",
            "32/32 [==============================] - 1s 33ms/step - loss: 0.1083 - accuracy: 0.9540 - val_loss: 0.4271 - val_accuracy: 0.9315\n",
            "Epoch 87/100\n",
            "32/32 [==============================] - 1s 32ms/step - loss: 0.1505 - accuracy: 0.9354 - val_loss: 0.5219 - val_accuracy: 0.9132\n",
            "Epoch 88/100\n",
            "32/32 [==============================] - 1s 33ms/step - loss: 0.1655 - accuracy: 0.9295 - val_loss: 0.4204 - val_accuracy: 0.9178\n",
            "Epoch 89/100\n",
            "32/32 [==============================] - 1s 33ms/step - loss: 0.1545 - accuracy: 0.9305 - val_loss: 0.3478 - val_accuracy: 0.9315\n",
            "Epoch 90/100\n",
            "32/32 [==============================] - 1s 32ms/step - loss: 0.1274 - accuracy: 0.9384 - val_loss: 0.5109 - val_accuracy: 0.9132\n",
            "Epoch 91/100\n",
            "32/32 [==============================] - 1s 32ms/step - loss: 0.1154 - accuracy: 0.9491 - val_loss: 0.5047 - val_accuracy: 0.9087\n",
            "Epoch 92/100\n",
            "32/32 [==============================] - 1s 32ms/step - loss: 0.1339 - accuracy: 0.9432 - val_loss: 0.4679 - val_accuracy: 0.9041\n",
            "Epoch 93/100\n",
            "32/32 [==============================] - 1s 32ms/step - loss: 0.1378 - accuracy: 0.9413 - val_loss: 0.4465 - val_accuracy: 0.8858\n",
            "Epoch 94/100\n",
            "32/32 [==============================] - 1s 33ms/step - loss: 0.1120 - accuracy: 0.9501 - val_loss: 0.5806 - val_accuracy: 0.9132\n",
            "Epoch 95/100\n",
            "32/32 [==============================] - 1s 32ms/step - loss: 0.1061 - accuracy: 0.9540 - val_loss: 0.5005 - val_accuracy: 0.9178\n",
            "Epoch 96/100\n",
            "32/32 [==============================] - 1s 32ms/step - loss: 0.1213 - accuracy: 0.9432 - val_loss: 0.4596 - val_accuracy: 0.9041\n",
            "Epoch 97/100\n",
            "32/32 [==============================] - 1s 33ms/step - loss: 0.1266 - accuracy: 0.9481 - val_loss: 0.5879 - val_accuracy: 0.8950\n",
            "Epoch 98/100\n",
            "32/32 [==============================] - 1s 33ms/step - loss: 0.1377 - accuracy: 0.9393 - val_loss: 0.6110 - val_accuracy: 0.8858\n",
            "Epoch 99/100\n",
            "32/32 [==============================] - 1s 33ms/step - loss: 0.1426 - accuracy: 0.9403 - val_loss: 0.4773 - val_accuracy: 0.9087\n",
            "Epoch 100/100\n",
            "32/32 [==============================] - 1s 32ms/step - loss: 0.1142 - accuracy: 0.9481 - val_loss: 0.5957 - val_accuracy: 0.8858\n"
          ],
          "name": "stdout"
        }
      ]
    },
    {
      "cell_type": "code",
      "metadata": {
        "colab": {
          "base_uri": "https://localhost:8080/",
          "height": 295
        },
        "id": "sMCcdu3t6AVq",
        "outputId": "61e56d9c-272c-47cc-cab2-ff554676ab4f"
      },
      "source": [
        "plt.plot(hist_2.history['loss'])\n",
        "plt.plot(hist_2.history['val_loss'])\n",
        "plt.title('Model loss')\n",
        "plt.ylabel('Loss')\n",
        "plt.xlabel('Epoch')\n",
        "plt.legend(['Train', 'Val'], loc='upper right')\n",
        "plt.show()"
      ],
      "execution_count": 35,
      "outputs": [
        {
          "output_type": "display_data",
          "data": {
            "image/png": "[encoded data removed]",
            "text/plain": [
              "<Figure size 432x288 with 1 Axes>"
            ]
          },
          "metadata": {
            "needs_background": "light"
          }
        }
      ]
    },
    {
      "cell_type": "code",
      "metadata": {
        "colab": {
          "base_uri": "https://localhost:8080/",
          "height": 295
        },
        "id": "zn_L_Kqc6CkX",
        "outputId": "689bd760-8938-420c-f5f9-460b49ee34ee"
      },
      "source": [
        "plt.plot(hist_2.history['accuracy'])\n",
        "plt.plot(hist_2.history['val_accuracy'])\n",
        "plt.title('Model accuracy')\n",
        "plt.ylabel('Accuracy')\n",
        "plt.xlabel('Epoch')\n",
        "plt.legend(['Train', 'Val'], loc='lower right')\n",
        "plt.show()"
      ],
      "execution_count": 37,
      "outputs": [
        {
          "output_type": "display_data",
          "data": {
            "image/png": "[encoded data removed]",
            "text/plain": [
              "<Figure size 432x288 with 1 Axes>"
            ]
          },
          "metadata": {
            "needs_background": "light"
          }
        }
      ]
    },
    {
      "cell_type": "code",
      "metadata": {
        "id": "Sg9oyu-d6Ebd"
      },
      "source": [
        "from keras.layers import Dropout\n",
        "from keras import regularizers"
      ],
      "execution_count": 38,
      "outputs": []
    },
    {
      "cell_type": "code",
      "metadata": {
        "id": "iTI1gkb76GJl"
      },
      "source": [
        "model_3 = Sequential([\n",
        "    Dense(1000, activation='relu', kernel_regularizer=regularizers.l2(0.01), input_shape=(10,)),\n",
        "    Dropout(0.3),\n",
        "    Dense(1000, activation='relu', kernel_regularizer=regularizers.l2(0.01)),\n",
        "    Dropout(0.3),\n",
        "    Dense(1000, activation='relu', kernel_regularizer=regularizers.l2(0.01)),\n",
        "    Dropout(0.3),\n",
        "    Dense(1000, activation='relu', kernel_regularizer=regularizers.l2(0.01)),\n",
        "    Dropout(0.3),\n",
        "    Dense(1, activation='sigmoid', kernel_regularizer=regularizers.l2(0.01)),\n",
        "])"
      ],
      "execution_count": 39,
      "outputs": []
    },
    {
      "cell_type": "code",
      "metadata": {
        "id": "vwBKtF7z6Hmb"
      },
      "source": [
        "model_3.compile(optimizer='adam',\n",
        "              loss='binary_crossentropy',\n",
        "              metrics=['accuracy'])"
      ],
      "execution_count": 40,
      "outputs": []
    },
    {
      "cell_type": "code",
      "metadata": {
        "colab": {
          "base_uri": "https://localhost:8080/"
        },
        "id": "g-Edt-jj6I23",
        "outputId": "430981da-3a72-43b1-c451-b6a51f2534ad"
      },
      "source": [
        "hist_3 = model_3.fit(X_train, Y_train,\n",
        "          batch_size=32, epochs=100,\n",
        "          validation_data=(X_val, Y_val))"
      ],
      "execution_count": 41,
      "outputs": [
        {
          "output_type": "stream",
          "text": [
            "Epoch 1/100\n",
            "32/32 [==============================] - 2s 46ms/step - loss: 14.2550 - accuracy: 0.5969 - val_loss: 3.9008 - val_accuracy: 0.8721\n",
            "Epoch 2/100\n",
            "32/32 [==============================] - 1s 42ms/step - loss: 1.7018 - accuracy: 0.8180 - val_loss: 0.6801 - val_accuracy: 0.8676\n",
            "Epoch 3/100\n",
            "32/32 [==============================] - 1s 43ms/step - loss: 0.5890 - accuracy: 0.8493 - val_loss: 0.5020 - val_accuracy: 0.8858\n",
            "Epoch 4/100\n",
            "32/32 [==============================] - 1s 42ms/step - loss: 0.5126 - accuracy: 0.8659 - val_loss: 0.5919 - val_accuracy: 0.8311\n",
            "Epoch 5/100\n",
            "32/32 [==============================] - 1s 43ms/step - loss: 0.5343 - accuracy: 0.8395 - val_loss: 0.4962 - val_accuracy: 0.8630\n",
            "Epoch 6/100\n",
            "32/32 [==============================] - 1s 43ms/step - loss: 0.5002 - accuracy: 0.8591 - val_loss: 0.4620 - val_accuracy: 0.8995\n",
            "Epoch 7/100\n",
            "32/32 [==============================] - 1s 42ms/step - loss: 0.4982 - accuracy: 0.8630 - val_loss: 0.4518 - val_accuracy: 0.8995\n",
            "Epoch 8/100\n",
            "32/32 [==============================] - 1s 43ms/step - loss: 0.4841 - accuracy: 0.8611 - val_loss: 0.4513 - val_accuracy: 0.8904\n",
            "Epoch 9/100\n",
            "32/32 [==============================] - 1s 43ms/step - loss: 0.4815 - accuracy: 0.8669 - val_loss: 0.4479 - val_accuracy: 0.9132\n",
            "Epoch 10/100\n",
            "32/32 [==============================] - 1s 42ms/step - loss: 0.4871 - accuracy: 0.8669 - val_loss: 0.4320 - val_accuracy: 0.9132\n",
            "Epoch 11/100\n",
            "32/32 [==============================] - 1s 42ms/step - loss: 0.4630 - accuracy: 0.8650 - val_loss: 0.4232 - val_accuracy: 0.9178\n",
            "Epoch 12/100\n",
            "32/32 [==============================] - 1s 43ms/step - loss: 0.4760 - accuracy: 0.8689 - val_loss: 0.4365 - val_accuracy: 0.8995\n",
            "Epoch 13/100\n",
            "32/32 [==============================] - 1s 42ms/step - loss: 0.4649 - accuracy: 0.8659 - val_loss: 0.4984 - val_accuracy: 0.8584\n",
            "Epoch 14/100\n",
            "32/32 [==============================] - 1s 41ms/step - loss: 0.4820 - accuracy: 0.8542 - val_loss: 0.4164 - val_accuracy: 0.9361\n",
            "Epoch 15/100\n",
            "32/32 [==============================] - 1s 41ms/step - loss: 0.4580 - accuracy: 0.8650 - val_loss: 0.4395 - val_accuracy: 0.8995\n",
            "Epoch 16/100\n",
            "32/32 [==============================] - 1s 41ms/step - loss: 0.4526 - accuracy: 0.8708 - val_loss: 0.4125 - val_accuracy: 0.9269\n",
            "Epoch 17/100\n",
            "32/32 [==============================] - 1s 42ms/step - loss: 0.4611 - accuracy: 0.8630 - val_loss: 0.4201 - val_accuracy: 0.9224\n",
            "Epoch 18/100\n",
            "32/32 [==============================] - 1s 41ms/step - loss: 0.4490 - accuracy: 0.8777 - val_loss: 0.4094 - val_accuracy: 0.9315\n",
            "Epoch 19/100\n",
            "32/32 [==============================] - 1s 41ms/step - loss: 0.4608 - accuracy: 0.8659 - val_loss: 0.4124 - val_accuracy: 0.9315\n",
            "Epoch 20/100\n",
            "32/32 [==============================] - 1s 41ms/step - loss: 0.4492 - accuracy: 0.8689 - val_loss: 0.4068 - val_accuracy: 0.9224\n",
            "Epoch 21/100\n",
            "32/32 [==============================] - 1s 40ms/step - loss: 0.4618 - accuracy: 0.8699 - val_loss: 0.4448 - val_accuracy: 0.8995\n",
            "Epoch 22/100\n",
            "32/32 [==============================] - 1s 40ms/step - loss: 0.4683 - accuracy: 0.8601 - val_loss: 0.4376 - val_accuracy: 0.8995\n",
            "Epoch 23/100\n",
            "32/32 [==============================] - 1s 41ms/step - loss: 0.5010 - accuracy: 0.8434 - val_loss: 0.4359 - val_accuracy: 0.9041\n",
            "Epoch 24/100\n",
            "32/32 [==============================] - 1s 40ms/step - loss: 0.4835 - accuracy: 0.8659 - val_loss: 0.4091 - val_accuracy: 0.9178\n",
            "Epoch 25/100\n",
            "32/32 [==============================] - 1s 42ms/step - loss: 0.4494 - accuracy: 0.8689 - val_loss: 0.4061 - val_accuracy: 0.9224\n",
            "Epoch 26/100\n",
            "32/32 [==============================] - 1s 42ms/step - loss: 0.4589 - accuracy: 0.8728 - val_loss: 0.4356 - val_accuracy: 0.9041\n",
            "Epoch 27/100\n",
            "32/32 [==============================] - 1s 43ms/step - loss: 0.4638 - accuracy: 0.8669 - val_loss: 0.4081 - val_accuracy: 0.9361\n",
            "Epoch 28/100\n",
            "32/32 [==============================] - 1s 42ms/step - loss: 0.4562 - accuracy: 0.8748 - val_loss: 0.4241 - val_accuracy: 0.8950\n",
            "Epoch 29/100\n",
            "32/32 [==============================] - 1s 41ms/step - loss: 0.4591 - accuracy: 0.8689 - val_loss: 0.4194 - val_accuracy: 0.9315\n",
            "Epoch 30/100\n",
            "32/32 [==============================] - 1s 42ms/step - loss: 0.4567 - accuracy: 0.8748 - val_loss: 0.4029 - val_accuracy: 0.9178\n",
            "Epoch 31/100\n",
            "32/32 [==============================] - 1s 41ms/step - loss: 0.4459 - accuracy: 0.8630 - val_loss: 0.4191 - val_accuracy: 0.8995\n",
            "Epoch 32/100\n",
            "32/32 [==============================] - 1s 43ms/step - loss: 0.4369 - accuracy: 0.8796 - val_loss: 0.4184 - val_accuracy: 0.9041\n",
            "Epoch 33/100\n",
            "32/32 [==============================] - 1s 41ms/step - loss: 0.4454 - accuracy: 0.8669 - val_loss: 0.4038 - val_accuracy: 0.9178\n",
            "Epoch 34/100\n",
            "32/32 [==============================] - 1s 42ms/step - loss: 0.4504 - accuracy: 0.8787 - val_loss: 0.4092 - val_accuracy: 0.9087\n",
            "Epoch 35/100\n",
            "32/32 [==============================] - 1s 41ms/step - loss: 0.4423 - accuracy: 0.8738 - val_loss: 0.3993 - val_accuracy: 0.9269\n",
            "Epoch 36/100\n",
            "32/32 [==============================] - 1s 41ms/step - loss: 0.4612 - accuracy: 0.8679 - val_loss: 0.4439 - val_accuracy: 0.8950\n",
            "Epoch 37/100\n",
            "32/32 [==============================] - 1s 40ms/step - loss: 0.4546 - accuracy: 0.8679 - val_loss: 0.4005 - val_accuracy: 0.9224\n",
            "Epoch 38/100\n",
            "32/32 [==============================] - 1s 41ms/step - loss: 0.4541 - accuracy: 0.8689 - val_loss: 0.4816 - val_accuracy: 0.8630\n",
            "Epoch 39/100\n",
            "32/32 [==============================] - 1s 42ms/step - loss: 0.4583 - accuracy: 0.8611 - val_loss: 0.4130 - val_accuracy: 0.9087\n",
            "Epoch 40/100\n",
            "32/32 [==============================] - 1s 41ms/step - loss: 0.4529 - accuracy: 0.8718 - val_loss: 0.4710 - val_accuracy: 0.8676\n",
            "Epoch 41/100\n",
            "32/32 [==============================] - 1s 42ms/step - loss: 0.4470 - accuracy: 0.8777 - val_loss: 0.4333 - val_accuracy: 0.9041\n",
            "Epoch 42/100\n",
            "32/32 [==============================] - 1s 41ms/step - loss: 0.4354 - accuracy: 0.8796 - val_loss: 0.4058 - val_accuracy: 0.9269\n",
            "Epoch 43/100\n",
            "32/32 [==============================] - 1s 42ms/step - loss: 0.4519 - accuracy: 0.8669 - val_loss: 0.4582 - val_accuracy: 0.8767\n",
            "Epoch 44/100\n",
            "32/32 [==============================] - 1s 41ms/step - loss: 0.4779 - accuracy: 0.8591 - val_loss: 0.4072 - val_accuracy: 0.9315\n",
            "Epoch 45/100\n",
            "32/32 [==============================] - 1s 40ms/step - loss: 0.4603 - accuracy: 0.8640 - val_loss: 0.4132 - val_accuracy: 0.9132\n",
            "Epoch 46/100\n",
            "32/32 [==============================] - 1s 41ms/step - loss: 0.4657 - accuracy: 0.8659 - val_loss: 0.4166 - val_accuracy: 0.9178\n",
            "Epoch 47/100\n",
            "32/32 [==============================] - 1s 41ms/step - loss: 0.4536 - accuracy: 0.8708 - val_loss: 0.4044 - val_accuracy: 0.9269\n",
            "Epoch 48/100\n",
            "32/32 [==============================] - 1s 41ms/step - loss: 0.4404 - accuracy: 0.8757 - val_loss: 0.4113 - val_accuracy: 0.9269\n",
            "Epoch 49/100\n",
            "32/32 [==============================] - 1s 41ms/step - loss: 0.4488 - accuracy: 0.8650 - val_loss: 0.4160 - val_accuracy: 0.9041\n",
            "Epoch 50/100\n",
            "32/32 [==============================] - 1s 41ms/step - loss: 0.4543 - accuracy: 0.8748 - val_loss: 0.4014 - val_accuracy: 0.9178\n",
            "Epoch 51/100\n",
            "32/32 [==============================] - 1s 41ms/step - loss: 0.4375 - accuracy: 0.8777 - val_loss: 0.4101 - val_accuracy: 0.9087\n",
            "Epoch 52/100\n",
            "32/32 [==============================] - 1s 42ms/step - loss: 0.4393 - accuracy: 0.8689 - val_loss: 0.4128 - val_accuracy: 0.9087\n",
            "Epoch 53/100\n",
            "32/32 [==============================] - 1s 43ms/step - loss: 0.4642 - accuracy: 0.8601 - val_loss: 0.4152 - val_accuracy: 0.9132\n",
            "Epoch 54/100\n",
            "32/32 [==============================] - 1s 42ms/step - loss: 0.4721 - accuracy: 0.8562 - val_loss: 0.4539 - val_accuracy: 0.8858\n",
            "Epoch 55/100\n",
            "32/32 [==============================] - 1s 43ms/step - loss: 0.4425 - accuracy: 0.8787 - val_loss: 0.4327 - val_accuracy: 0.8995\n",
            "Epoch 56/100\n",
            "32/32 [==============================] - 1s 43ms/step - loss: 0.4809 - accuracy: 0.8513 - val_loss: 0.4517 - val_accuracy: 0.8904\n",
            "Epoch 57/100\n",
            "32/32 [==============================] - 1s 42ms/step - loss: 0.4407 - accuracy: 0.8796 - val_loss: 0.4031 - val_accuracy: 0.9315\n",
            "Epoch 58/100\n",
            "32/32 [==============================] - 1s 41ms/step - loss: 0.4599 - accuracy: 0.8669 - val_loss: 0.4031 - val_accuracy: 0.9315\n",
            "Epoch 59/100\n",
            "32/32 [==============================] - 1s 41ms/step - loss: 0.4668 - accuracy: 0.8689 - val_loss: 0.4069 - val_accuracy: 0.9315\n",
            "Epoch 60/100\n",
            "32/32 [==============================] - 1s 41ms/step - loss: 0.4449 - accuracy: 0.8718 - val_loss: 0.4016 - val_accuracy: 0.9178\n",
            "Epoch 61/100\n",
            "32/32 [==============================] - 1s 41ms/step - loss: 0.4422 - accuracy: 0.8845 - val_loss: 0.4026 - val_accuracy: 0.9315\n",
            "Epoch 62/100\n",
            "32/32 [==============================] - 1s 41ms/step - loss: 0.4409 - accuracy: 0.8796 - val_loss: 0.4054 - val_accuracy: 0.9132\n",
            "Epoch 63/100\n",
            "32/32 [==============================] - 1s 42ms/step - loss: 0.4833 - accuracy: 0.8601 - val_loss: 0.4023 - val_accuracy: 0.9315\n",
            "Epoch 64/100\n",
            "32/32 [==============================] - 1s 41ms/step - loss: 0.4553 - accuracy: 0.8650 - val_loss: 0.4038 - val_accuracy: 0.9315\n",
            "Epoch 65/100\n",
            "32/32 [==============================] - 1s 41ms/step - loss: 0.4559 - accuracy: 0.8581 - val_loss: 0.4056 - val_accuracy: 0.9087\n",
            "Epoch 66/100\n",
            "32/32 [==============================] - 1s 42ms/step - loss: 0.4342 - accuracy: 0.8699 - val_loss: 0.4008 - val_accuracy: 0.9315\n",
            "Epoch 67/100\n",
            "32/32 [==============================] - 1s 42ms/step - loss: 0.4565 - accuracy: 0.8718 - val_loss: 0.4092 - val_accuracy: 0.9087\n",
            "Epoch 68/100\n",
            "32/32 [==============================] - 1s 41ms/step - loss: 0.4321 - accuracy: 0.8748 - val_loss: 0.4172 - val_accuracy: 0.9087\n",
            "Epoch 69/100\n",
            "32/32 [==============================] - 1s 41ms/step - loss: 0.4352 - accuracy: 0.8767 - val_loss: 0.4079 - val_accuracy: 0.9178\n",
            "Epoch 70/100\n",
            "32/32 [==============================] - 1s 41ms/step - loss: 0.4364 - accuracy: 0.8777 - val_loss: 0.4091 - val_accuracy: 0.9087\n",
            "Epoch 71/100\n",
            "32/32 [==============================] - 1s 43ms/step - loss: 0.4408 - accuracy: 0.8689 - val_loss: 0.4175 - val_accuracy: 0.9087\n",
            "Epoch 72/100\n",
            "32/32 [==============================] - 1s 42ms/step - loss: 0.4589 - accuracy: 0.8689 - val_loss: 0.3990 - val_accuracy: 0.9315\n",
            "Epoch 73/100\n",
            "32/32 [==============================] - 1s 41ms/step - loss: 0.4391 - accuracy: 0.8777 - val_loss: 0.3986 - val_accuracy: 0.9178\n",
            "Epoch 74/100\n",
            "32/32 [==============================] - 1s 42ms/step - loss: 0.4391 - accuracy: 0.8806 - val_loss: 0.3991 - val_accuracy: 0.9315\n",
            "Epoch 75/100\n",
            "32/32 [==============================] - 1s 43ms/step - loss: 0.4378 - accuracy: 0.8748 - val_loss: 0.4058 - val_accuracy: 0.9132\n",
            "Epoch 76/100\n",
            "32/32 [==============================] - 1s 43ms/step - loss: 0.4382 - accuracy: 0.8679 - val_loss: 0.4027 - val_accuracy: 0.9315\n",
            "Epoch 77/100\n",
            "32/32 [==============================] - 1s 44ms/step - loss: 0.4268 - accuracy: 0.8699 - val_loss: 0.4114 - val_accuracy: 0.9178\n",
            "Epoch 78/100\n",
            "32/32 [==============================] - 1s 44ms/step - loss: 0.4363 - accuracy: 0.8748 - val_loss: 0.4112 - val_accuracy: 0.9178\n",
            "Epoch 79/100\n",
            "32/32 [==============================] - 1s 41ms/step - loss: 0.4400 - accuracy: 0.8767 - val_loss: 0.4065 - val_accuracy: 0.9087\n",
            "Epoch 80/100\n",
            "32/32 [==============================] - 1s 43ms/step - loss: 0.4338 - accuracy: 0.8777 - val_loss: 0.4026 - val_accuracy: 0.9315\n",
            "Epoch 81/100\n",
            "32/32 [==============================] - 1s 41ms/step - loss: 0.4342 - accuracy: 0.8855 - val_loss: 0.4033 - val_accuracy: 0.9315\n",
            "Epoch 82/100\n",
            "32/32 [==============================] - 1s 41ms/step - loss: 0.4575 - accuracy: 0.8601 - val_loss: 0.4294 - val_accuracy: 0.9041\n",
            "Epoch 83/100\n",
            "32/32 [==============================] - 1s 41ms/step - loss: 0.4556 - accuracy: 0.8650 - val_loss: 0.4101 - val_accuracy: 0.9132\n",
            "Epoch 84/100\n",
            "32/32 [==============================] - 1s 42ms/step - loss: 0.4462 - accuracy: 0.8699 - val_loss: 0.4150 - val_accuracy: 0.9087\n",
            "Epoch 85/100\n",
            "32/32 [==============================] - 1s 43ms/step - loss: 0.4374 - accuracy: 0.8728 - val_loss: 0.4534 - val_accuracy: 0.8858\n",
            "Epoch 86/100\n",
            "32/32 [==============================] - 1s 44ms/step - loss: 0.4403 - accuracy: 0.8718 - val_loss: 0.4017 - val_accuracy: 0.9315\n",
            "Epoch 87/100\n",
            "32/32 [==============================] - 1s 42ms/step - loss: 0.4346 - accuracy: 0.8806 - val_loss: 0.4010 - val_accuracy: 0.9315\n",
            "Epoch 88/100\n",
            "32/32 [==============================] - 1s 41ms/step - loss: 0.4510 - accuracy: 0.8659 - val_loss: 0.4513 - val_accuracy: 0.8858\n",
            "Epoch 89/100\n",
            "32/32 [==============================] - 1s 42ms/step - loss: 0.4532 - accuracy: 0.8679 - val_loss: 0.4029 - val_accuracy: 0.9315\n",
            "Epoch 90/100\n",
            "32/32 [==============================] - 1s 40ms/step - loss: 0.4472 - accuracy: 0.8816 - val_loss: 0.4039 - val_accuracy: 0.9315\n",
            "Epoch 91/100\n",
            "32/32 [==============================] - 1s 41ms/step - loss: 0.4507 - accuracy: 0.8699 - val_loss: 0.4008 - val_accuracy: 0.9269\n",
            "Epoch 92/100\n",
            "32/32 [==============================] - 1s 42ms/step - loss: 0.4361 - accuracy: 0.8767 - val_loss: 0.4191 - val_accuracy: 0.9087\n",
            "Epoch 93/100\n",
            "32/32 [==============================] - 1s 42ms/step - loss: 0.4476 - accuracy: 0.8708 - val_loss: 0.4123 - val_accuracy: 0.9132\n",
            "Epoch 94/100\n",
            "32/32 [==============================] - 1s 42ms/step - loss: 0.4376 - accuracy: 0.8816 - val_loss: 0.4231 - val_accuracy: 0.9041\n",
            "Epoch 95/100\n",
            "32/32 [==============================] - 1s 42ms/step - loss: 0.4575 - accuracy: 0.8591 - val_loss: 0.4086 - val_accuracy: 0.9132\n",
            "Epoch 96/100\n",
            "32/32 [==============================] - 1s 42ms/step - loss: 0.4318 - accuracy: 0.8738 - val_loss: 0.4068 - val_accuracy: 0.9315\n",
            "Epoch 97/100\n",
            "32/32 [==============================] - 1s 43ms/step - loss: 0.4546 - accuracy: 0.8738 - val_loss: 0.4327 - val_accuracy: 0.9041\n",
            "Epoch 98/100\n",
            "32/32 [==============================] - 1s 42ms/step - loss: 0.4484 - accuracy: 0.8659 - val_loss: 0.4068 - val_accuracy: 0.9132\n",
            "Epoch 99/100\n",
            "32/32 [==============================] - 1s 43ms/step - loss: 0.4412 - accuracy: 0.8777 - val_loss: 0.4039 - val_accuracy: 0.9178\n",
            "Epoch 100/100\n",
            "32/32 [==============================] - 1s 44ms/step - loss: 0.4488 - accuracy: 0.8796 - val_loss: 0.4010 - val_accuracy: 0.9224\n"
          ],
          "name": "stdout"
        }
      ]
    },
    {
      "cell_type": "code",
      "metadata": {
        "colab": {
          "base_uri": "https://localhost:8080/",
          "height": 295
        },
        "id": "OdV5FFKo6KVM",
        "outputId": "cbba664d-c919-46da-a232-ff21fd5433ce"
      },
      "source": [
        "plt.plot(hist_3.history['loss'])\n",
        "plt.plot(hist_3.history['val_loss'])\n",
        "plt.title('Model loss')\n",
        "plt.ylabel('Loss')\n",
        "plt.xlabel('Epoch')\n",
        "plt.legend(['Train', 'Val'], loc='upper right')\n",
        "plt.ylim(top=1.2, bottom=0)\n",
        "plt.show()"
      ],
      "execution_count": 42,
      "outputs": [
        {
          "output_type": "display_data",
          "data": {
            "image/png": "[encoded data removed]",
            "text/plain": [
              "<Figure size 432x288 with 1 Axes>"
            ]
          },
          "metadata": {
            "needs_background": "light"
          }
        }
      ]
    },
    {
      "cell_type": "code",
      "metadata": {
        "colab": {
          "base_uri": "https://localhost:8080/",
          "height": 295
        },
        "id": "zTTirLcC6L5V",
        "outputId": "5048a5c7-09a9-48c7-94a5-8aabc774e924"
      },
      "source": [
        "plt.plot(hist_3.history['accuracy'])\n",
        "plt.plot(hist_3.history['val_accuracy'])\n",
        "plt.title('Model accuracy')\n",
        "plt.ylabel('Accuracy')\n",
        "plt.xlabel('Epoch')\n",
        "plt.legend(['Train', 'Val'], loc='lower right')\n",
        "plt.show()"
      ],
      "execution_count": 44,
      "outputs": [
        {
          "output_type": "display_data",
          "data": {
            "image/png": "[encoded data removed]",
            "text/plain": [
              "<Figure size 432x288 with 1 Axes>"
            ]
          },
          "metadata": {
            "needs_background": "light"
          }
        }
      ]
    }
  ]
}