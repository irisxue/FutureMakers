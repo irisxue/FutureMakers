{
  "nbformat": 4,
  "nbformat_minor": 0,
  "metadata": {
    "colab": {
      "name": "MIT_FutureMakers_Day21_Part2.ipynb",
      "provenance": []
    },
    "kernelspec": {
      "name": "python3",
      "display_name": "Python 3"
    },
    "language_info": {
      "name": "python"
    }
  },
  "cells": [
    {
      "cell_type": "code",
      "metadata": {
        "id": "OCXAiJ8l7s3S"
      },
      "source": [
        "import keras\n",
        "from keras import layers\n",
        "\n",
        "# This is the size of our encoded representations\n",
        "encoding_dim = 32  # 32 floats -> compression of factor 24.5, assuming the input is 784 floats\n",
        "\n",
        "# This is our input image\n",
        "input_img = keras.Input(shape=(784,))\n",
        "# \"encoded\" is the encoded representation of the input\n",
        "encoded = layers.Dense(encoding_dim, activation='relu')(input_img)\n",
        "# \"decoded\" is the lossy reconstruction of the input\n",
        "decoded = layers.Dense(784, activation='sigmoid')(encoded)\n",
        "\n",
        "# This model maps an input to its reconstruction\n",
        "autoencoder = keras.Model(input_img, decoded)"
      ],
      "execution_count": 1,
      "outputs": []
    },
    {
      "cell_type": "code",
      "metadata": {
        "id": "_cLX6tCM7uFY"
      },
      "source": [
        "encoder = keras.Model(input_img, encoded)"
      ],
      "execution_count": 2,
      "outputs": []
    },
    {
      "cell_type": "code",
      "metadata": {
        "id": "whdxO8437vy_"
      },
      "source": [
        "# This is our encoded (32-dimensional) input\n",
        "encoded_input = keras.Input(shape=(encoding_dim,))\n",
        "# Retrieve the last layer of the autoencoder model\n",
        "decoder_layer = autoencoder.layers[-1]\n",
        "# Create the decoder model\n",
        "decoder = keras.Model(encoded_input, decoder_layer(encoded_input))"
      ],
      "execution_count": 3,
      "outputs": []
    },
    {
      "cell_type": "code",
      "metadata": {
        "id": "1qX1JVLY7xo6"
      },
      "source": [
        "autoencoder.compile(optimizer='adam', loss='binary_crossentropy')\n"
      ],
      "execution_count": 4,
      "outputs": []
    },
    {
      "cell_type": "code",
      "metadata": {
        "colab": {
          "base_uri": "https://localhost:8080/"
        },
        "id": "ledhY3BQ7y9V",
        "outputId": "c413c4b4-729b-4480-bcee-33eb73cc182f"
      },
      "source": [
        "from keras.datasets import mnist\n",
        "import numpy as np\n",
        "(x_train, _), (x_test, _) = mnist.load_data()"
      ],
      "execution_count": 5,
      "outputs": [
        {
          "output_type": "stream",
          "text": [
            "Downloading data from https://storage.googleapis.com/tensorflow/tf-keras-datasets/mnist.npz\n",
            "11493376/11490434 [==============================] - 0s 0us/step\n",
            "11501568/11490434 [==============================] - 0s 0us/step\n"
          ],
          "name": "stdout"
        }
      ]
    },
    {
      "cell_type": "code",
      "metadata": {
        "colab": {
          "base_uri": "https://localhost:8080/"
        },
        "id": "YZL8kXVl70hX",
        "outputId": "c0e10056-4522-40d7-9c38-6bea9980f33d"
      },
      "source": [
        "x_train = x_train.astype('float32') / 255.\n",
        "x_test = x_test.astype('float32') / 255.\n",
        "x_train = x_train.reshape((len(x_train), np.prod(x_train.shape[1:])))\n",
        "x_test = x_test.reshape((len(x_test), np.prod(x_test.shape[1:])))\n",
        "print(x_train.shape)\n",
        "print(x_test.shape)"
      ],
      "execution_count": 6,
      "outputs": [
        {
          "output_type": "stream",
          "text": [
            "(60000, 784)\n",
            "(10000, 784)\n"
          ],
          "name": "stdout"
        }
      ]
    },
    {
      "cell_type": "code",
      "metadata": {
        "colab": {
          "base_uri": "https://localhost:8080/"
        },
        "id": "cCYIW0W971wp",
        "outputId": "e1deb52a-4f1a-4def-ae46-f5d4e65d28d8"
      },
      "source": [
        "autoencoder.fit(x_train, x_train,\n",
        "                epochs=50,\n",
        "                batch_size=256,\n",
        "                shuffle=True,\n",
        "                validation_data=(x_test, x_test))"
      ],
      "execution_count": 7,
      "outputs": [
        {
          "output_type": "stream",
          "text": [
            "Epoch 1/50\n",
            "235/235 [==============================] - 3s 11ms/step - loss: 0.2751 - val_loss: 0.1908\n",
            "Epoch 2/50\n",
            "235/235 [==============================] - 2s 10ms/step - loss: 0.1713 - val_loss: 0.1541\n",
            "Epoch 3/50\n",
            "235/235 [==============================] - 2s 10ms/step - loss: 0.1448 - val_loss: 0.1344\n",
            "Epoch 4/50\n",
            "235/235 [==============================] - 2s 10ms/step - loss: 0.1295 - val_loss: 0.1224\n",
            "Epoch 5/50\n",
            "235/235 [==============================] - 2s 10ms/step - loss: 0.1191 - val_loss: 0.1138\n",
            "Epoch 6/50\n",
            "235/235 [==============================] - 2s 10ms/step - loss: 0.1118 - val_loss: 0.1076\n",
            "Epoch 7/50\n",
            "235/235 [==============================] - 2s 10ms/step - loss: 0.1065 - val_loss: 0.1029\n",
            "Epoch 8/50\n",
            "235/235 [==============================] - 2s 10ms/step - loss: 0.1025 - val_loss: 0.0995\n",
            "Epoch 9/50\n",
            "235/235 [==============================] - 2s 10ms/step - loss: 0.0995 - val_loss: 0.0970\n",
            "Epoch 10/50\n",
            "235/235 [==============================] - 2s 9ms/step - loss: 0.0975 - val_loss: 0.0955\n",
            "Epoch 11/50\n",
            "235/235 [==============================] - 2s 10ms/step - loss: 0.0961 - val_loss: 0.0943\n",
            "Epoch 12/50\n",
            "235/235 [==============================] - 2s 10ms/step - loss: 0.0953 - val_loss: 0.0936\n",
            "Epoch 13/50\n",
            "235/235 [==============================] - 2s 10ms/step - loss: 0.0947 - val_loss: 0.0932\n",
            "Epoch 14/50\n",
            "235/235 [==============================] - 2s 10ms/step - loss: 0.0943 - val_loss: 0.0929\n",
            "Epoch 15/50\n",
            "235/235 [==============================] - 2s 10ms/step - loss: 0.0941 - val_loss: 0.0926\n",
            "Epoch 16/50\n",
            "235/235 [==============================] - 2s 10ms/step - loss: 0.0939 - val_loss: 0.0925\n",
            "Epoch 17/50\n",
            "235/235 [==============================] - 2s 10ms/step - loss: 0.0937 - val_loss: 0.0923\n",
            "Epoch 18/50\n",
            "235/235 [==============================] - 2s 10ms/step - loss: 0.0935 - val_loss: 0.0922\n",
            "Epoch 19/50\n",
            "235/235 [==============================] - 2s 10ms/step - loss: 0.0934 - val_loss: 0.0921\n",
            "Epoch 20/50\n",
            "235/235 [==============================] - 2s 10ms/step - loss: 0.0934 - val_loss: 0.0920\n",
            "Epoch 21/50\n",
            "235/235 [==============================] - 2s 10ms/step - loss: 0.0933 - val_loss: 0.0920\n",
            "Epoch 22/50\n",
            "235/235 [==============================] - 2s 10ms/step - loss: 0.0932 - val_loss: 0.0919\n",
            "Epoch 23/50\n",
            "235/235 [==============================] - 2s 10ms/step - loss: 0.0931 - val_loss: 0.0919\n",
            "Epoch 24/50\n",
            "235/235 [==============================] - 2s 10ms/step - loss: 0.0931 - val_loss: 0.0918\n",
            "Epoch 25/50\n",
            "235/235 [==============================] - 2s 10ms/step - loss: 0.0930 - val_loss: 0.0918\n",
            "Epoch 26/50\n",
            "235/235 [==============================] - 2s 10ms/step - loss: 0.0930 - val_loss: 0.0917\n",
            "Epoch 27/50\n",
            "235/235 [==============================] - 2s 10ms/step - loss: 0.0930 - val_loss: 0.0918\n",
            "Epoch 28/50\n",
            "235/235 [==============================] - 2s 10ms/step - loss: 0.0929 - val_loss: 0.0917\n",
            "Epoch 29/50\n",
            "235/235 [==============================] - 2s 10ms/step - loss: 0.0929 - val_loss: 0.0917\n",
            "Epoch 30/50\n",
            "235/235 [==============================] - 2s 10ms/step - loss: 0.0929 - val_loss: 0.0917\n",
            "Epoch 31/50\n",
            "235/235 [==============================] - 2s 10ms/step - loss: 0.0928 - val_loss: 0.0917\n",
            "Epoch 32/50\n",
            "235/235 [==============================] - 2s 10ms/step - loss: 0.0928 - val_loss: 0.0916\n",
            "Epoch 33/50\n",
            "235/235 [==============================] - 2s 10ms/step - loss: 0.0928 - val_loss: 0.0916\n",
            "Epoch 34/50\n",
            "235/235 [==============================] - 2s 10ms/step - loss: 0.0928 - val_loss: 0.0917\n",
            "Epoch 35/50\n",
            "235/235 [==============================] - 2s 10ms/step - loss: 0.0928 - val_loss: 0.0916\n",
            "Epoch 36/50\n",
            "235/235 [==============================] - 2s 10ms/step - loss: 0.0927 - val_loss: 0.0916\n",
            "Epoch 37/50\n",
            "235/235 [==============================] - 2s 10ms/step - loss: 0.0927 - val_loss: 0.0916\n",
            "Epoch 38/50\n",
            "235/235 [==============================] - 2s 10ms/step - loss: 0.0927 - val_loss: 0.0915\n",
            "Epoch 39/50\n",
            "235/235 [==============================] - 2s 10ms/step - loss: 0.0927 - val_loss: 0.0915\n",
            "Epoch 40/50\n",
            "235/235 [==============================] - 2s 10ms/step - loss: 0.0927 - val_loss: 0.0915\n",
            "Epoch 41/50\n",
            "235/235 [==============================] - 2s 10ms/step - loss: 0.0927 - val_loss: 0.0915\n",
            "Epoch 42/50\n",
            "235/235 [==============================] - 2s 10ms/step - loss: 0.0927 - val_loss: 0.0914\n",
            "Epoch 43/50\n",
            "235/235 [==============================] - 2s 10ms/step - loss: 0.0926 - val_loss: 0.0915\n",
            "Epoch 44/50\n",
            "235/235 [==============================] - 2s 10ms/step - loss: 0.0926 - val_loss: 0.0915\n",
            "Epoch 45/50\n",
            "235/235 [==============================] - 2s 10ms/step - loss: 0.0926 - val_loss: 0.0915\n",
            "Epoch 46/50\n",
            "235/235 [==============================] - 2s 10ms/step - loss: 0.0926 - val_loss: 0.0914\n",
            "Epoch 47/50\n",
            "235/235 [==============================] - 2s 10ms/step - loss: 0.0926 - val_loss: 0.0915\n",
            "Epoch 48/50\n",
            "235/235 [==============================] - 2s 10ms/step - loss: 0.0926 - val_loss: 0.0915\n",
            "Epoch 49/50\n",
            "235/235 [==============================] - 2s 10ms/step - loss: 0.0926 - val_loss: 0.0915\n",
            "Epoch 50/50\n",
            "235/235 [==============================] - 2s 10ms/step - loss: 0.0926 - val_loss: 0.0915\n"
          ],
          "name": "stdout"
        },
        {
          "output_type": "execute_result",
          "data": {
            "text/plain": [
              "<keras.callbacks.History at 0x7f7c6c8f5890>"
            ]
          },
          "metadata": {},
          "execution_count": 7
        }
      ]
    },
    {
      "cell_type": "code",
      "metadata": {
        "id": "rFRhfpdf724O"
      },
      "source": [
        "# Encode and decode some digits\n",
        "# Note that we take them from the *test* set\n",
        "encoded_imgs = encoder.predict(x_test)\n",
        "decoded_imgs = decoder.predict(encoded_imgs)"
      ],
      "execution_count": 8,
      "outputs": []
    },
    {
      "cell_type": "code",
      "metadata": {
        "colab": {
          "base_uri": "https://localhost:8080/",
          "height": 145
        },
        "id": "UDvqVD3W745j",
        "outputId": "281bfd83-c6b4-467e-999e-e8fa2651f80e"
      },
      "source": [
        "# Use Matplotlib (don't ask)\n",
        "import matplotlib.pyplot as plt\n",
        "\n",
        "n = 10  # How many digits we will display\n",
        "plt.figure(figsize=(20, 4))\n",
        "for i in range(n):\n",
        "    # Display original\n",
        "    ax = plt.subplot(2, n, i + 1)\n",
        "    plt.imshow(x_test[i].reshape(28, 28))\n",
        "    plt.gray()\n",
        "    ax.get_xaxis().set_visible(False)\n",
        "    ax.get_yaxis().set_visible(False)\n",
        "\n",
        "    # Display reconstruction\n",
        "    ax = plt.subplot(2, n, i + 1 + n)\n",
        "    plt.imshow(decoded_imgs[i].reshape(28, 28))\n",
        "    plt.gray()\n",
        "    ax.get_xaxis().set_visible(False)\n",
        "    ax.get_yaxis().set_visible(False)\n",
        "plt.show()"
      ],
      "execution_count": 9,
      "outputs": [
        {
          "output_type": "display_data",
          "data": {
            "image/png": "[encoded data removed]",
            "text/plain": [
              "<Figure size 1440x288 with 20 Axes>"
            ]
          },
          "metadata": {
            "needs_background": "light"
          }
        }
      ]
    },
    {
      "cell_type": "code",
      "metadata": {
        "id": "773wV_c576fg"
      },
      "source": [
        "from keras import regularizers\n",
        "\n",
        "encoding_dim = 32\n",
        "\n",
        "input_img = keras.Input(shape=(784,))\n",
        "# Add a Dense layer with a L1 activity regularizer\n",
        "encoded = layers.Dense(encoding_dim, activation='relu',\n",
        "                activity_regularizer=regularizers.l1(10e-5))(input_img)\n",
        "decoded = layers.Dense(784, activation='sigmoid')(encoded)\n",
        "\n",
        "autoencoder = keras.Model(input_img, decoded)"
      ],
      "execution_count": 10,
      "outputs": []
    },
    {
      "cell_type": "code",
      "metadata": {
        "id": "p0DevCKj772W"
      },
      "source": [
        "input_img = keras.Input(shape=(784,))\n",
        "encoded = layers.Dense(128, activation='relu')(input_img)\n",
        "encoded = layers.Dense(64, activation='relu')(encoded)\n",
        "encoded = layers.Dense(32, activation='relu')(encoded)\n",
        "\n",
        "decoded = layers.Dense(64, activation='relu')(encoded)\n",
        "decoded = layers.Dense(128, activation='relu')(decoded)\n",
        "decoded = layers.Dense(784, activation='sigmoid')(decoded)"
      ],
      "execution_count": 11,
      "outputs": []
    },
    {
      "cell_type": "code",
      "metadata": {
        "colab": {
          "base_uri": "https://localhost:8080/"
        },
        "id": "ZMfr97pW79Zv",
        "outputId": "7dfbe5b1-f49e-4155-c816-36748b51a50d"
      },
      "source": [
        "autoencoder = keras.Model(input_img, decoded)\n",
        "autoencoder.compile(optimizer='adam', loss='binary_crossentropy')\n",
        "\n",
        "autoencoder.fit(x_train, x_train,\n",
        "                epochs=100,\n",
        "                batch_size=256,\n",
        "                shuffle=True,\n",
        "                validation_data=(x_test, x_test))"
      ],
      "execution_count": 12,
      "outputs": [
        {
          "output_type": "stream",
          "text": [
            "Epoch 1/100\n",
            "235/235 [==============================] - 4s 15ms/step - loss: 0.2407 - val_loss: 0.1615\n",
            "Epoch 2/100\n",
            "235/235 [==============================] - 3s 14ms/step - loss: 0.1466 - val_loss: 0.1321\n",
            "Epoch 3/100\n",
            "235/235 [==============================] - 3s 15ms/step - loss: 0.1282 - val_loss: 0.1226\n",
            "Epoch 4/100\n",
            "235/235 [==============================] - 3s 15ms/step - loss: 0.1205 - val_loss: 0.1162\n",
            "Epoch 5/100\n",
            "235/235 [==============================] - 3s 15ms/step - loss: 0.1155 - val_loss: 0.1123\n",
            "Epoch 6/100\n",
            "235/235 [==============================] - 3s 15ms/step - loss: 0.1122 - val_loss: 0.1097\n",
            "Epoch 7/100\n",
            "235/235 [==============================] - 3s 15ms/step - loss: 0.1093 - val_loss: 0.1069\n",
            "Epoch 8/100\n",
            "235/235 [==============================] - 3s 15ms/step - loss: 0.1067 - val_loss: 0.1039\n",
            "Epoch 9/100\n",
            "235/235 [==============================] - 3s 15ms/step - loss: 0.1041 - val_loss: 0.1017\n",
            "Epoch 10/100\n",
            "235/235 [==============================] - 4s 15ms/step - loss: 0.1022 - val_loss: 0.1004\n",
            "Epoch 11/100\n",
            "235/235 [==============================] - 4s 15ms/step - loss: 0.1008 - val_loss: 0.0989\n",
            "Epoch 12/100\n",
            "235/235 [==============================] - 4s 15ms/step - loss: 0.0995 - val_loss: 0.0978\n",
            "Epoch 13/100\n",
            "235/235 [==============================] - 4s 15ms/step - loss: 0.0983 - val_loss: 0.0969\n",
            "Epoch 14/100\n",
            "235/235 [==============================] - 4s 15ms/step - loss: 0.0972 - val_loss: 0.0958\n",
            "Epoch 15/100\n",
            "235/235 [==============================] - 4s 15ms/step - loss: 0.0961 - val_loss: 0.0948\n",
            "Epoch 16/100\n",
            "235/235 [==============================] - 4s 15ms/step - loss: 0.0952 - val_loss: 0.0938\n",
            "Epoch 17/100\n",
            "235/235 [==============================] - 4s 15ms/step - loss: 0.0943 - val_loss: 0.0932\n",
            "Epoch 18/100\n",
            "235/235 [==============================] - 4s 15ms/step - loss: 0.0937 - val_loss: 0.0926\n",
            "Epoch 19/100\n",
            "235/235 [==============================] - 4s 15ms/step - loss: 0.0930 - val_loss: 0.0919\n",
            "Epoch 20/100\n",
            "235/235 [==============================] - 4s 15ms/step - loss: 0.0925 - val_loss: 0.0920\n",
            "Epoch 21/100\n",
            "235/235 [==============================] - 4s 15ms/step - loss: 0.0919 - val_loss: 0.0907\n",
            "Epoch 22/100\n",
            "235/235 [==============================] - 4s 15ms/step - loss: 0.0915 - val_loss: 0.0903\n",
            "Epoch 23/100\n",
            "235/235 [==============================] - 4s 15ms/step - loss: 0.0911 - val_loss: 0.0901\n",
            "Epoch 24/100\n",
            "235/235 [==============================] - 4s 15ms/step - loss: 0.0906 - val_loss: 0.0901\n",
            "Epoch 25/100\n",
            "235/235 [==============================] - 4s 15ms/step - loss: 0.0902 - val_loss: 0.0892\n",
            "Epoch 26/100\n",
            "235/235 [==============================] - 4s 15ms/step - loss: 0.0899 - val_loss: 0.0888\n",
            "Epoch 27/100\n",
            "235/235 [==============================] - 4s 16ms/step - loss: 0.0895 - val_loss: 0.0889\n",
            "Epoch 28/100\n",
            "235/235 [==============================] - 4s 15ms/step - loss: 0.0891 - val_loss: 0.0884\n",
            "Epoch 29/100\n",
            "235/235 [==============================] - 4s 15ms/step - loss: 0.0888 - val_loss: 0.0881\n",
            "Epoch 30/100\n",
            "235/235 [==============================] - 4s 15ms/step - loss: 0.0885 - val_loss: 0.0876\n",
            "Epoch 31/100\n",
            "235/235 [==============================] - 4s 15ms/step - loss: 0.0882 - val_loss: 0.0874\n",
            "Epoch 32/100\n",
            "235/235 [==============================] - 4s 15ms/step - loss: 0.0880 - val_loss: 0.0875\n",
            "Epoch 33/100\n",
            "235/235 [==============================] - 4s 15ms/step - loss: 0.0878 - val_loss: 0.0870\n",
            "Epoch 34/100\n",
            "235/235 [==============================] - 4s 15ms/step - loss: 0.0875 - val_loss: 0.0868\n",
            "Epoch 35/100\n",
            "235/235 [==============================] - 4s 15ms/step - loss: 0.0873 - val_loss: 0.0867\n",
            "Epoch 36/100\n",
            "235/235 [==============================] - 4s 15ms/step - loss: 0.0872 - val_loss: 0.0864\n",
            "Epoch 37/100\n",
            "235/235 [==============================] - 4s 15ms/step - loss: 0.0869 - val_loss: 0.0864\n",
            "Epoch 38/100\n",
            "235/235 [==============================] - 4s 15ms/step - loss: 0.0867 - val_loss: 0.0861\n",
            "Epoch 39/100\n",
            "235/235 [==============================] - 4s 15ms/step - loss: 0.0865 - val_loss: 0.0863\n",
            "Epoch 40/100\n",
            "235/235 [==============================] - 4s 15ms/step - loss: 0.0864 - val_loss: 0.0859\n",
            "Epoch 41/100\n",
            "235/235 [==============================] - 4s 15ms/step - loss: 0.0862 - val_loss: 0.0855\n",
            "Epoch 42/100\n",
            "235/235 [==============================] - 3s 15ms/step - loss: 0.0861 - val_loss: 0.0855\n",
            "Epoch 43/100\n",
            "235/235 [==============================] - 4s 15ms/step - loss: 0.0859 - val_loss: 0.0853\n",
            "Epoch 44/100\n",
            "235/235 [==============================] - 3s 15ms/step - loss: 0.0857 - val_loss: 0.0851\n",
            "Epoch 45/100\n",
            "235/235 [==============================] - 4s 15ms/step - loss: 0.0856 - val_loss: 0.0851\n",
            "Epoch 46/100\n",
            "235/235 [==============================] - 3s 15ms/step - loss: 0.0854 - val_loss: 0.0848\n",
            "Epoch 47/100\n",
            "235/235 [==============================] - 4s 15ms/step - loss: 0.0853 - val_loss: 0.0846\n",
            "Epoch 48/100\n",
            "235/235 [==============================] - 3s 15ms/step - loss: 0.0851 - val_loss: 0.0850\n",
            "Epoch 49/100\n",
            "235/235 [==============================] - 3s 15ms/step - loss: 0.0850 - val_loss: 0.0846\n",
            "Epoch 50/100\n",
            "235/235 [==============================] - 4s 15ms/step - loss: 0.0849 - val_loss: 0.0846\n",
            "Epoch 51/100\n",
            "235/235 [==============================] - 3s 15ms/step - loss: 0.0847 - val_loss: 0.0844\n",
            "Epoch 52/100\n",
            "235/235 [==============================] - 4s 15ms/step - loss: 0.0846 - val_loss: 0.0840\n",
            "Epoch 53/100\n",
            "235/235 [==============================] - 3s 15ms/step - loss: 0.0845 - val_loss: 0.0842\n",
            "Epoch 54/100\n",
            "235/235 [==============================] - 4s 15ms/step - loss: 0.0844 - val_loss: 0.0839\n",
            "Epoch 55/100\n",
            "235/235 [==============================] - 4s 15ms/step - loss: 0.0843 - val_loss: 0.0839\n",
            "Epoch 56/100\n",
            "235/235 [==============================] - 4s 15ms/step - loss: 0.0842 - val_loss: 0.0838\n",
            "Epoch 57/100\n",
            "235/235 [==============================] - 4s 15ms/step - loss: 0.0841 - val_loss: 0.0840\n",
            "Epoch 58/100\n",
            "235/235 [==============================] - 4s 15ms/step - loss: 0.0840 - val_loss: 0.0836\n",
            "Epoch 59/100\n",
            "235/235 [==============================] - 4s 15ms/step - loss: 0.0839 - val_loss: 0.0834\n",
            "Epoch 60/100\n",
            "235/235 [==============================] - 4s 15ms/step - loss: 0.0838 - val_loss: 0.0834\n",
            "Epoch 61/100\n",
            "235/235 [==============================] - 4s 15ms/step - loss: 0.0836 - val_loss: 0.0833\n",
            "Epoch 62/100\n",
            "235/235 [==============================] - 4s 15ms/step - loss: 0.0835 - val_loss: 0.0834\n",
            "Epoch 63/100\n",
            "235/235 [==============================] - 4s 15ms/step - loss: 0.0834 - val_loss: 0.0829\n",
            "Epoch 64/100\n",
            "235/235 [==============================] - 4s 15ms/step - loss: 0.0832 - val_loss: 0.0828\n",
            "Epoch 65/100\n",
            "235/235 [==============================] - 4s 15ms/step - loss: 0.0832 - val_loss: 0.0828\n",
            "Epoch 66/100\n",
            "235/235 [==============================] - 4s 15ms/step - loss: 0.0830 - val_loss: 0.0829\n",
            "Epoch 67/100\n",
            "235/235 [==============================] - 3s 15ms/step - loss: 0.0829 - val_loss: 0.0825\n",
            "Epoch 68/100\n",
            "235/235 [==============================] - 3s 15ms/step - loss: 0.0828 - val_loss: 0.0825\n",
            "Epoch 69/100\n",
            "235/235 [==============================] - 4s 15ms/step - loss: 0.0827 - val_loss: 0.0824\n",
            "Epoch 70/100\n",
            "235/235 [==============================] - 4s 15ms/step - loss: 0.0826 - val_loss: 0.0823\n",
            "Epoch 71/100\n",
            "235/235 [==============================] - 3s 15ms/step - loss: 0.0825 - val_loss: 0.0823\n",
            "Epoch 72/100\n",
            "235/235 [==============================] - 4s 15ms/step - loss: 0.0824 - val_loss: 0.0821\n",
            "Epoch 73/100\n",
            "235/235 [==============================] - 4s 15ms/step - loss: 0.0823 - val_loss: 0.0821\n",
            "Epoch 74/100\n",
            "235/235 [==============================] - 3s 15ms/step - loss: 0.0822 - val_loss: 0.0820\n",
            "Epoch 75/100\n",
            "235/235 [==============================] - 4s 15ms/step - loss: 0.0821 - val_loss: 0.0819\n",
            "Epoch 76/100\n",
            "235/235 [==============================] - 4s 15ms/step - loss: 0.0821 - val_loss: 0.0820\n",
            "Epoch 77/100\n",
            "235/235 [==============================] - 4s 15ms/step - loss: 0.0820 - val_loss: 0.0817\n",
            "Epoch 78/100\n",
            "235/235 [==============================] - 4s 15ms/step - loss: 0.0819 - val_loss: 0.0815\n",
            "Epoch 79/100\n",
            "235/235 [==============================] - 4s 15ms/step - loss: 0.0818 - val_loss: 0.0815\n",
            "Epoch 80/100\n",
            "235/235 [==============================] - 4s 15ms/step - loss: 0.0818 - val_loss: 0.0814\n",
            "Epoch 81/100\n",
            "235/235 [==============================] - 4s 15ms/step - loss: 0.0817 - val_loss: 0.0815\n",
            "Epoch 82/100\n",
            "235/235 [==============================] - 4s 15ms/step - loss: 0.0816 - val_loss: 0.0815\n",
            "Epoch 83/100\n",
            "235/235 [==============================] - 4s 15ms/step - loss: 0.0816 - val_loss: 0.0815\n",
            "Epoch 84/100\n",
            "235/235 [==============================] - 4s 15ms/step - loss: 0.0815 - val_loss: 0.0813\n",
            "Epoch 85/100\n",
            "235/235 [==============================] - 3s 15ms/step - loss: 0.0815 - val_loss: 0.0814\n",
            "Epoch 86/100\n",
            "235/235 [==============================] - 4s 15ms/step - loss: 0.0815 - val_loss: 0.0812\n",
            "Epoch 87/100\n",
            "235/235 [==============================] - 3s 15ms/step - loss: 0.0814 - val_loss: 0.0812\n",
            "Epoch 88/100\n",
            "235/235 [==============================] - 3s 15ms/step - loss: 0.0813 - val_loss: 0.0811\n",
            "Epoch 89/100\n",
            "235/235 [==============================] - 4s 15ms/step - loss: 0.0813 - val_loss: 0.0811\n",
            "Epoch 90/100\n",
            "235/235 [==============================] - 4s 15ms/step - loss: 0.0813 - val_loss: 0.0809\n",
            "Epoch 91/100\n",
            "235/235 [==============================] - 4s 15ms/step - loss: 0.0812 - val_loss: 0.0810\n",
            "Epoch 92/100\n",
            "235/235 [==============================] - 4s 15ms/step - loss: 0.0811 - val_loss: 0.0811\n",
            "Epoch 93/100\n",
            "235/235 [==============================] - 4s 15ms/step - loss: 0.0811 - val_loss: 0.0810\n",
            "Epoch 94/100\n",
            "235/235 [==============================] - 4s 15ms/step - loss: 0.0811 - val_loss: 0.0810\n",
            "Epoch 95/100\n",
            "235/235 [==============================] - 4s 15ms/step - loss: 0.0810 - val_loss: 0.0807\n",
            "Epoch 96/100\n",
            "235/235 [==============================] - 4s 15ms/step - loss: 0.0810 - val_loss: 0.0810\n",
            "Epoch 97/100\n",
            "235/235 [==============================] - 4s 15ms/step - loss: 0.0810 - val_loss: 0.0811\n",
            "Epoch 98/100\n",
            "235/235 [==============================] - 4s 15ms/step - loss: 0.0809 - val_loss: 0.0807\n",
            "Epoch 99/100\n",
            "235/235 [==============================] - 4s 15ms/step - loss: 0.0809 - val_loss: 0.0808\n",
            "Epoch 100/100\n",
            "235/235 [==============================] - 4s 15ms/step - loss: 0.0809 - val_loss: 0.0807\n"
          ],
          "name": "stdout"
        },
        {
          "output_type": "execute_result",
          "data": {
            "text/plain": [
              "<keras.callbacks.History at 0x7f7c6c806090>"
            ]
          },
          "metadata": {},
          "execution_count": 12
        }
      ]
    },
    {
      "cell_type": "code",
      "metadata": {
        "id": "UhP_kA1G7-jJ"
      },
      "source": [
        "import keras\n",
        "from keras import layers\n",
        "\n",
        "input_img = keras.Input(shape=(28, 28, 1))\n",
        "\n",
        "x = layers.Conv2D(16, (3, 3), activation='relu', padding='same')(input_img)\n",
        "x = layers.MaxPooling2D((2, 2), padding='same')(x)\n",
        "x = layers.Conv2D(8, (3, 3), activation='relu', padding='same')(x)\n",
        "x = layers.MaxPooling2D((2, 2), padding='same')(x)\n",
        "x = layers.Conv2D(8, (3, 3), activation='relu', padding='same')(x)\n",
        "encoded = layers.MaxPooling2D((2, 2), padding='same')(x)\n",
        "\n",
        "# at this point the representation is (4, 4, 8) i.e. 128-dimensional\n",
        "\n",
        "x = layers.Conv2D(8, (3, 3), activation='relu', padding='same')(encoded)\n",
        "x = layers.UpSampling2D((2, 2))(x)\n",
        "x = layers.Conv2D(8, (3, 3), activation='relu', padding='same')(x)\n",
        "x = layers.UpSampling2D((2, 2))(x)\n",
        "x = layers.Conv2D(16, (3, 3), activation='relu')(x)\n",
        "x = layers.UpSampling2D((2, 2))(x)\n",
        "decoded = layers.Conv2D(1, (3, 3), activation='sigmoid', padding='same')(x)\n",
        "\n",
        "autoencoder = keras.Model(input_img, decoded)\n",
        "autoencoder.compile(optimizer='adam', loss='binary_crossentropy')\n"
      ],
      "execution_count": 13,
      "outputs": []
    },
    {
      "cell_type": "code",
      "metadata": {
        "id": "xra-vLSD8AhQ"
      },
      "source": [
        "from keras.datasets import mnist\n",
        "import numpy as np\n",
        "\n",
        "(x_train, _), (x_test, _) = mnist.load_data()\n",
        "\n",
        "x_train = x_train.astype('float32') / 255.\n",
        "x_test = x_test.astype('float32') / 255.\n",
        "x_train = np.reshape(x_train, (len(x_train), 28, 28, 1))\n",
        "x_test = np.reshape(x_test, (len(x_test), 28, 28, 1))"
      ],
      "execution_count": 14,
      "outputs": []
    },
    {
      "cell_type": "code",
      "metadata": {
        "colab": {
          "base_uri": "https://localhost:8080/"
        },
        "id": "-WVQrP0P8DWK",
        "outputId": "088883a8-ae8b-487d-8c16-ff3475a1d589"
      },
      "source": [
        "from keras.callbacks import TensorBoard\n",
        "\n",
        "autoencoder.fit(x_train, x_train,\n",
        "                epochs=50,\n",
        "                batch_size=128,\n",
        "                shuffle=True,\n",
        "                validation_data=(x_test, x_test),\n",
        "                callbacks=[TensorBoard(log_dir='/tmp/autoencoder')])"
      ],
      "execution_count": 16,
      "outputs": [
        {
          "output_type": "stream",
          "text": [
            "Epoch 1/50\n",
            "469/469 [==============================] - 69s 146ms/step - loss: 0.2118 - val_loss: 0.1455\n",
            "Epoch 2/50\n",
            "469/469 [==============================] - 68s 145ms/step - loss: 0.1355 - val_loss: 0.1282\n",
            "Epoch 3/50\n",
            "469/469 [==============================] - 68s 144ms/step - loss: 0.1229 - val_loss: 0.1171\n",
            "Epoch 4/50\n",
            "469/469 [==============================] - 68s 144ms/step - loss: 0.1152 - val_loss: 0.1118\n",
            "Epoch 5/50\n",
            "469/469 [==============================] - 68s 144ms/step - loss: 0.1108 - val_loss: 0.1083\n",
            "Epoch 6/50\n",
            "469/469 [==============================] - 68s 145ms/step - loss: 0.1078 - val_loss: 0.1054\n",
            "Epoch 7/50\n",
            "469/469 [==============================] - 68s 145ms/step - loss: 0.1056 - val_loss: 0.1034\n",
            "Epoch 8/50\n",
            "469/469 [==============================] - 68s 145ms/step - loss: 0.1038 - val_loss: 0.1018\n",
            "Epoch 9/50\n",
            "469/469 [==============================] - 68s 145ms/step - loss: 0.1024 - val_loss: 0.1007\n",
            "Epoch 10/50\n",
            "469/469 [==============================] - 68s 145ms/step - loss: 0.1013 - val_loss: 0.0994\n",
            "Epoch 11/50\n",
            "469/469 [==============================] - 68s 145ms/step - loss: 0.1002 - val_loss: 0.0987\n",
            "Epoch 12/50\n",
            "469/469 [==============================] - 70s 150ms/step - loss: 0.0994 - val_loss: 0.0978\n",
            "Epoch 13/50\n",
            "469/469 [==============================] - 68s 146ms/step - loss: 0.0987 - val_loss: 0.0971\n",
            "Epoch 14/50\n",
            "469/469 [==============================] - 68s 145ms/step - loss: 0.0981 - val_loss: 0.0970\n",
            "Epoch 15/50\n",
            "469/469 [==============================] - 68s 146ms/step - loss: 0.0975 - val_loss: 0.0965\n",
            "Epoch 16/50\n",
            "469/469 [==============================] - 68s 146ms/step - loss: 0.0972 - val_loss: 0.0960\n",
            "Epoch 17/50\n",
            "469/469 [==============================] - 69s 146ms/step - loss: 0.0966 - val_loss: 0.0952\n",
            "Epoch 18/50\n",
            "469/469 [==============================] - 68s 146ms/step - loss: 0.0963 - val_loss: 0.0957\n",
            "Epoch 19/50\n",
            "469/469 [==============================] - 69s 147ms/step - loss: 0.0959 - val_loss: 0.0948\n",
            "Epoch 20/50\n",
            "469/469 [==============================] - 69s 146ms/step - loss: 0.0956 - val_loss: 0.0942\n",
            "Epoch 21/50\n",
            "469/469 [==============================] - 69s 146ms/step - loss: 0.0953 - val_loss: 0.0939\n",
            "Epoch 22/50\n",
            "469/469 [==============================] - 69s 146ms/step - loss: 0.0951 - val_loss: 0.0940\n",
            "Epoch 23/50\n",
            "469/469 [==============================] - 69s 147ms/step - loss: 0.0948 - val_loss: 0.0941\n",
            "Epoch 24/50\n",
            "469/469 [==============================] - 71s 152ms/step - loss: 0.0945 - val_loss: 0.0933\n",
            "Epoch 25/50\n",
            "469/469 [==============================] - 69s 147ms/step - loss: 0.0943 - val_loss: 0.0932\n",
            "Epoch 26/50\n",
            "469/469 [==============================] - 69s 147ms/step - loss: 0.0940 - val_loss: 0.0929\n",
            "Epoch 27/50\n",
            "469/469 [==============================] - 69s 147ms/step - loss: 0.0939 - val_loss: 0.0926\n",
            "Epoch 28/50\n",
            "469/469 [==============================] - 69s 147ms/step - loss: 0.0937 - val_loss: 0.0923\n",
            "Epoch 29/50\n",
            "469/469 [==============================] - 69s 147ms/step - loss: 0.0935 - val_loss: 0.0924\n",
            "Epoch 30/50\n",
            "469/469 [==============================] - 71s 151ms/step - loss: 0.0933 - val_loss: 0.0922\n",
            "Epoch 31/50\n",
            "469/469 [==============================] - 69s 147ms/step - loss: 0.0932 - val_loss: 0.0920\n",
            "Epoch 32/50\n",
            "469/469 [==============================] - 69s 147ms/step - loss: 0.0930 - val_loss: 0.0918\n",
            "Epoch 33/50\n",
            "469/469 [==============================] - 69s 147ms/step - loss: 0.0929 - val_loss: 0.0919\n",
            "Epoch 34/50\n",
            "469/469 [==============================] - 69s 147ms/step - loss: 0.0927 - val_loss: 0.0921\n",
            "Epoch 35/50\n",
            "469/469 [==============================] - 69s 147ms/step - loss: 0.0926 - val_loss: 0.0913\n",
            "Epoch 36/50\n",
            "469/469 [==============================] - 69s 147ms/step - loss: 0.0925 - val_loss: 0.0913\n",
            "Epoch 37/50\n",
            "469/469 [==============================] - 69s 147ms/step - loss: 0.0924 - val_loss: 0.0911\n",
            "Epoch 38/50\n",
            "469/469 [==============================] - 69s 146ms/step - loss: 0.0922 - val_loss: 0.0910\n",
            "Epoch 39/50\n",
            "469/469 [==============================] - 69s 147ms/step - loss: 0.0921 - val_loss: 0.0910\n",
            "Epoch 40/50\n",
            "469/469 [==============================] - 69s 147ms/step - loss: 0.0920 - val_loss: 0.0910\n",
            "Epoch 41/50\n",
            "469/469 [==============================] - 71s 152ms/step - loss: 0.0919 - val_loss: 0.0906\n",
            "Epoch 42/50\n",
            "469/469 [==============================] - 69s 147ms/step - loss: 0.0918 - val_loss: 0.0905\n",
            "Epoch 43/50\n",
            "469/469 [==============================] - 69s 147ms/step - loss: 0.0917 - val_loss: 0.0909\n",
            "Epoch 44/50\n",
            "469/469 [==============================] - 69s 147ms/step - loss: 0.0916 - val_loss: 0.0906\n",
            "Epoch 45/50\n",
            "469/469 [==============================] - 69s 148ms/step - loss: 0.0915 - val_loss: 0.0906\n",
            "Epoch 46/50\n",
            "469/469 [==============================] - 69s 148ms/step - loss: 0.0915 - val_loss: 0.0904\n",
            "Epoch 47/50\n",
            "469/469 [==============================] - 69s 148ms/step - loss: 0.0913 - val_loss: 0.0904\n",
            "Epoch 48/50\n",
            "469/469 [==============================] - 69s 148ms/step - loss: 0.0913 - val_loss: 0.0901\n",
            "Epoch 49/50\n",
            "469/469 [==============================] - 69s 147ms/step - loss: 0.0912 - val_loss: 0.0902\n",
            "Epoch 50/50\n",
            "469/469 [==============================] - 69s 147ms/step - loss: 0.0911 - val_loss: 0.0899\n"
          ],
          "name": "stdout"
        },
        {
          "output_type": "execute_result",
          "data": {
            "text/plain": [
              "<keras.callbacks.History at 0x7f7c684da1d0>"
            ]
          },
          "metadata": {},
          "execution_count": 16
        }
      ]
    },
    {
      "cell_type": "code",
      "metadata": {
        "colab": {
          "base_uri": "https://localhost:8080/",
          "height": 145
        },
        "id": "71jnrODh8EkN",
        "outputId": "86f2a019-9166-4db0-b0bb-cdaa6bf79705"
      },
      "source": [
        "decoded_imgs = autoencoder.predict(x_test)\n",
        "\n",
        "n = 10\n",
        "plt.figure(figsize=(20, 4))\n",
        "for i in range(1, n + 1):\n",
        "    # Display original\n",
        "    ax = plt.subplot(2, n, i)\n",
        "    plt.imshow(x_test[i].reshape(28, 28))\n",
        "    plt.gray()\n",
        "    ax.get_xaxis().set_visible(False)\n",
        "    ax.get_yaxis().set_visible(False)\n",
        "\n",
        "    # Display reconstruction\n",
        "    ax = plt.subplot(2, n, i + n)\n",
        "    plt.imshow(decoded_imgs[i].reshape(28, 28))\n",
        "    plt.gray()\n",
        "    ax.get_xaxis().set_visible(False)\n",
        "    ax.get_yaxis().set_visible(False)\n",
        "plt.show()"
      ],
      "execution_count": 17,
      "outputs": [
        {
          "output_type": "display_data",
          "data": {
            "image/png": "[encoded data removed]",
            "text/plain": [
              "<Figure size 1440x288 with 20 Axes>"
            ]
          },
          "metadata": {
            "needs_background": "light"
          }
        }
      ]
    },
    {
      "cell_type": "code",
      "metadata": {
        "colab": {
          "base_uri": "https://localhost:8080/",
          "height": 469
        },
        "id": "L-KMC-7Q8F7E",
        "outputId": "3e284c5a-1daa-4691-839d-b836cc4a3b61"
      },
      "source": [
        "encoder = keras.Model(input_img, encoded)\n",
        "encoded_imgs = encoder.predict(x_test)\n",
        "\n",
        "n = 10\n",
        "plt.figure(figsize=(20, 8))\n",
        "for i in range(1, n + 1):\n",
        "    ax = plt.subplot(1, n, i)\n",
        "    plt.imshow(encoded_imgs[i].reshape((4, 4 * 8)).T)\n",
        "    plt.gray()\n",
        "    ax.get_xaxis().set_visible(False)\n",
        "    ax.get_yaxis().set_visible(False)\n",
        "plt.show()"
      ],
      "execution_count": 18,
      "outputs": [
        {
          "output_type": "display_data",
          "data": {
            "image/png": "[encoded data removed]",
            "text/plain": [
              "<Figure size 1440x576 with 10 Axes>"
            ]
          },
          "metadata": {
            "needs_background": "light"
          }
        }
      ]
    },
    {
      "cell_type": "code",
      "metadata": {
        "id": "35Hq3H1P8HNb"
      },
      "source": [
        "from keras.datasets import mnist\n",
        "import numpy as np\n",
        "\n",
        "(x_train, _), (x_test, _) = mnist.load_data()\n",
        "\n",
        "x_train = x_train.astype('float32') / 255.\n",
        "x_test = x_test.astype('float32') / 255.\n",
        "x_train = np.reshape(x_train, (len(x_train), 28, 28, 1))\n",
        "x_test = np.reshape(x_test, (len(x_test), 28, 28, 1))\n",
        "\n",
        "noise_factor = 0.5\n",
        "x_train_noisy = x_train + noise_factor * np.random.normal(loc=0.0, scale=1.0, size=x_train.shape) \n",
        "x_test_noisy = x_test + noise_factor * np.random.normal(loc=0.0, scale=1.0, size=x_test.shape) \n",
        "\n",
        "x_train_noisy = np.clip(x_train_noisy, 0., 1.)\n",
        "x_test_noisy = np.clip(x_test_noisy, 0., 1.)"
      ],
      "execution_count": 19,
      "outputs": []
    },
    {
      "cell_type": "code",
      "metadata": {
        "colab": {
          "base_uri": "https://localhost:8080/",
          "height": 129
        },
        "id": "n3Z9-ut08I5t",
        "outputId": "3b3160f5-8d2b-4f77-b500-35657924d40b"
      },
      "source": [
        "n = 10\n",
        "plt.figure(figsize=(20, 2))\n",
        "for i in range(1, n + 1):\n",
        "    ax = plt.subplot(1, n, i)\n",
        "    plt.imshow(x_test_noisy[i].reshape(28, 28))\n",
        "    plt.gray()\n",
        "    ax.get_xaxis().set_visible(False)\n",
        "    ax.get_yaxis().set_visible(False)\n",
        "plt.show()"
      ],
      "execution_count": 20,
      "outputs": [
        {
          "output_type": "display_data",
          "data": {
            "image/png": "[encoded data removed]",
            "text/plain": [
              "<Figure size 1440x144 with 10 Axes>"
            ]
          },
          "metadata": {
            "needs_background": "light"
          }
        }
      ]
    },
    {
      "cell_type": "code",
      "metadata": {
        "id": "_eV7AjPm8KEk"
      },
      "source": [
        "input_img = keras.Input(shape=(28, 28, 1))\n",
        "\n",
        "x = layers.Conv2D(32, (3, 3), activation='relu', padding='same')(input_img)\n",
        "x = layers.MaxPooling2D((2, 2), padding='same')(x)\n",
        "x = layers.Conv2D(32, (3, 3), activation='relu', padding='same')(x)\n",
        "encoded = layers.MaxPooling2D((2, 2), padding='same')(x)\n",
        "\n",
        "# At this point the representation is (7, 7, 32)\n",
        "\n",
        "x = layers.Conv2D(32, (3, 3), activation='relu', padding='same')(encoded)\n",
        "x = layers.UpSampling2D((2, 2))(x)\n",
        "x = layers.Conv2D(32, (3, 3), activation='relu', padding='same')(x)\n",
        "x = layers.UpSampling2D((2, 2))(x)\n",
        "decoded = layers.Conv2D(1, (3, 3), activation='sigmoid', padding='same')(x)\n",
        "\n",
        "autoencoder = keras.Model(input_img, decoded)\n",
        "autoencoder.compile(optimizer='adam', loss='binary_crossentropy')"
      ],
      "execution_count": 21,
      "outputs": []
    },
    {
      "cell_type": "code",
      "metadata": {
        "colab": {
          "base_uri": "https://localhost:8080/"
        },
        "id": "rVbXs1yx8LdU",
        "outputId": "88af7713-09e8-44db-8f1b-821ca3f66f21"
      },
      "source": [
        "autoencoder.fit(x_train_noisy, x_train,\n",
        "                epochs=5,\n",
        "                batch_size=128,\n",
        "                shuffle=True,\n",
        "                validation_data=(x_test_noisy, x_test),\n",
        "                callbacks=[TensorBoard(log_dir='/tmp/tb', histogram_freq=0, write_graph=False)])"
      ],
      "execution_count": 23,
      "outputs": [
        {
          "output_type": "stream",
          "text": [
            "Epoch 1/5\n",
            "469/469 [==============================] - 131s 280ms/step - loss: 0.0939 - val_loss: 0.0939\n",
            "Epoch 2/5\n",
            "469/469 [==============================] - 131s 279ms/step - loss: 0.0939 - val_loss: 0.0936\n",
            "Epoch 3/5\n",
            "469/469 [==============================] - 131s 279ms/step - loss: 0.0938 - val_loss: 0.0937\n",
            "Epoch 4/5\n",
            "469/469 [==============================] - 131s 279ms/step - loss: 0.0938 - val_loss: 0.0936\n",
            "Epoch 5/5\n",
            "469/469 [==============================] - 131s 280ms/step - loss: 0.0938 - val_loss: 0.0937\n"
          ],
          "name": "stdout"
        },
        {
          "output_type": "execute_result",
          "data": {
            "text/plain": [
              "<keras.callbacks.History at 0x7f7c6c45ab90>"
            ]
          },
          "metadata": {},
          "execution_count": 23
        }
      ]
    },
    {
      "cell_type": "code",
      "metadata": {
        "id": "BSkoGu6S8Mm9"
      },
      "source": [
        ""
      ],
      "execution_count": null,
      "outputs": []
    }
  ]
}